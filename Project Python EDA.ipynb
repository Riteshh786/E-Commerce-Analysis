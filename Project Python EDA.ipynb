{
  "cells": [
    {
      "cell_type": "code",
      "execution_count": null,
      "metadata": {
        "colab": {
          "base_uri": "https://localhost:8080/",
          "height": 73
        },
        "id": "82Bc5XiW__6_",
        "outputId": "703150ce-46f2-4315-e146-3df1f2b30154"
      },
      "outputs": [
        {
          "output_type": "display_data",
          "data": {
            "text/plain": [
              "<IPython.core.display.HTML object>"
            ],
            "text/html": [
              "\n",
              "     <input type=\"file\" id=\"files-36bf77a2-8cd6-4ee6-b178-3d9f931161e8\" name=\"files[]\" multiple disabled\n",
              "        style=\"border:none\" />\n",
              "     <output id=\"result-36bf77a2-8cd6-4ee6-b178-3d9f931161e8\">\n",
              "      Upload widget is only available when the cell has been executed in the\n",
              "      current browser session. Please rerun this cell to enable.\n",
              "      </output>\n",
              "      <script>// Copyright 2017 Google LLC\n",
              "//\n",
              "// Licensed under the Apache License, Version 2.0 (the \"License\");\n",
              "// you may not use this file except in compliance with the License.\n",
              "// You may obtain a copy of the License at\n",
              "//\n",
              "//      http://www.apache.org/licenses/LICENSE-2.0\n",
              "//\n",
              "// Unless required by applicable law or agreed to in writing, software\n",
              "// distributed under the License is distributed on an \"AS IS\" BASIS,\n",
              "// WITHOUT WARRANTIES OR CONDITIONS OF ANY KIND, either express or implied.\n",
              "// See the License for the specific language governing permissions and\n",
              "// limitations under the License.\n",
              "\n",
              "/**\n",
              " * @fileoverview Helpers for google.colab Python module.\n",
              " */\n",
              "(function(scope) {\n",
              "function span(text, styleAttributes = {}) {\n",
              "  const element = document.createElement('span');\n",
              "  element.textContent = text;\n",
              "  for (const key of Object.keys(styleAttributes)) {\n",
              "    element.style[key] = styleAttributes[key];\n",
              "  }\n",
              "  return element;\n",
              "}\n",
              "\n",
              "// Max number of bytes which will be uploaded at a time.\n",
              "const MAX_PAYLOAD_SIZE = 100 * 1024;\n",
              "\n",
              "function _uploadFiles(inputId, outputId) {\n",
              "  const steps = uploadFilesStep(inputId, outputId);\n",
              "  const outputElement = document.getElementById(outputId);\n",
              "  // Cache steps on the outputElement to make it available for the next call\n",
              "  // to uploadFilesContinue from Python.\n",
              "  outputElement.steps = steps;\n",
              "\n",
              "  return _uploadFilesContinue(outputId);\n",
              "}\n",
              "\n",
              "// This is roughly an async generator (not supported in the browser yet),\n",
              "// where there are multiple asynchronous steps and the Python side is going\n",
              "// to poll for completion of each step.\n",
              "// This uses a Promise to block the python side on completion of each step,\n",
              "// then passes the result of the previous step as the input to the next step.\n",
              "function _uploadFilesContinue(outputId) {\n",
              "  const outputElement = document.getElementById(outputId);\n",
              "  const steps = outputElement.steps;\n",
              "\n",
              "  const next = steps.next(outputElement.lastPromiseValue);\n",
              "  return Promise.resolve(next.value.promise).then((value) => {\n",
              "    // Cache the last promise value to make it available to the next\n",
              "    // step of the generator.\n",
              "    outputElement.lastPromiseValue = value;\n",
              "    return next.value.response;\n",
              "  });\n",
              "}\n",
              "\n",
              "/**\n",
              " * Generator function which is called between each async step of the upload\n",
              " * process.\n",
              " * @param {string} inputId Element ID of the input file picker element.\n",
              " * @param {string} outputId Element ID of the output display.\n",
              " * @return {!Iterable<!Object>} Iterable of next steps.\n",
              " */\n",
              "function* uploadFilesStep(inputId, outputId) {\n",
              "  const inputElement = document.getElementById(inputId);\n",
              "  inputElement.disabled = false;\n",
              "\n",
              "  const outputElement = document.getElementById(outputId);\n",
              "  outputElement.innerHTML = '';\n",
              "\n",
              "  const pickedPromise = new Promise((resolve) => {\n",
              "    inputElement.addEventListener('change', (e) => {\n",
              "      resolve(e.target.files);\n",
              "    });\n",
              "  });\n",
              "\n",
              "  const cancel = document.createElement('button');\n",
              "  inputElement.parentElement.appendChild(cancel);\n",
              "  cancel.textContent = 'Cancel upload';\n",
              "  const cancelPromise = new Promise((resolve) => {\n",
              "    cancel.onclick = () => {\n",
              "      resolve(null);\n",
              "    };\n",
              "  });\n",
              "\n",
              "  // Wait for the user to pick the files.\n",
              "  const files = yield {\n",
              "    promise: Promise.race([pickedPromise, cancelPromise]),\n",
              "    response: {\n",
              "      action: 'starting',\n",
              "    }\n",
              "  };\n",
              "\n",
              "  cancel.remove();\n",
              "\n",
              "  // Disable the input element since further picks are not allowed.\n",
              "  inputElement.disabled = true;\n",
              "\n",
              "  if (!files) {\n",
              "    return {\n",
              "      response: {\n",
              "        action: 'complete',\n",
              "      }\n",
              "    };\n",
              "  }\n",
              "\n",
              "  for (const file of files) {\n",
              "    const li = document.createElement('li');\n",
              "    li.append(span(file.name, {fontWeight: 'bold'}));\n",
              "    li.append(span(\n",
              "        `(${file.type || 'n/a'}) - ${file.size} bytes, ` +\n",
              "        `last modified: ${\n",
              "            file.lastModifiedDate ? file.lastModifiedDate.toLocaleDateString() :\n",
              "                                    'n/a'} - `));\n",
              "    const percent = span('0% done');\n",
              "    li.appendChild(percent);\n",
              "\n",
              "    outputElement.appendChild(li);\n",
              "\n",
              "    const fileDataPromise = new Promise((resolve) => {\n",
              "      const reader = new FileReader();\n",
              "      reader.onload = (e) => {\n",
              "        resolve(e.target.result);\n",
              "      };\n",
              "      reader.readAsArrayBuffer(file);\n",
              "    });\n",
              "    // Wait for the data to be ready.\n",
              "    let fileData = yield {\n",
              "      promise: fileDataPromise,\n",
              "      response: {\n",
              "        action: 'continue',\n",
              "      }\n",
              "    };\n",
              "\n",
              "    // Use a chunked sending to avoid message size limits. See b/62115660.\n",
              "    let position = 0;\n",
              "    do {\n",
              "      const length = Math.min(fileData.byteLength - position, MAX_PAYLOAD_SIZE);\n",
              "      const chunk = new Uint8Array(fileData, position, length);\n",
              "      position += length;\n",
              "\n",
              "      const base64 = btoa(String.fromCharCode.apply(null, chunk));\n",
              "      yield {\n",
              "        response: {\n",
              "          action: 'append',\n",
              "          file: file.name,\n",
              "          data: base64,\n",
              "        },\n",
              "      };\n",
              "\n",
              "      let percentDone = fileData.byteLength === 0 ?\n",
              "          100 :\n",
              "          Math.round((position / fileData.byteLength) * 100);\n",
              "      percent.textContent = `${percentDone}% done`;\n",
              "\n",
              "    } while (position < fileData.byteLength);\n",
              "  }\n",
              "\n",
              "  // All done.\n",
              "  yield {\n",
              "    response: {\n",
              "      action: 'complete',\n",
              "    }\n",
              "  };\n",
              "}\n",
              "\n",
              "scope.google = scope.google || {};\n",
              "scope.google.colab = scope.google.colab || {};\n",
              "scope.google.colab._files = {\n",
              "  _uploadFiles,\n",
              "  _uploadFilesContinue,\n",
              "};\n",
              "})(self);\n",
              "</script> "
            ]
          },
          "metadata": {}
        },
        {
          "output_type": "stream",
          "name": "stdout",
          "text": [
            "Saving sales_dataset.csv to sales_dataset.csv\n"
          ]
        }
      ],
      "source": [
        "import pandas as pd\n",
        "import numpy as np\n",
        "import matplotlib.pyplot as plt\n",
        "import seaborn as sns\n",
        "import datetime\n",
        "\n",
        "from google.colab import files\n",
        "uploaded = files.upload()"
      ]
    },
    {
      "cell_type": "markdown",
      "metadata": {
        "id": "G9A-2pMkro0x"
      },
      "source": [
        "# **Data Cleaning**"
      ]
    },
    {
      "cell_type": "code",
      "execution_count": null,
      "metadata": {
        "colab": {
          "base_uri": "https://localhost:8080/"
        },
        "id": "1fUPUa9BAP8_",
        "outputId": "ae5ae355-8a88-45dc-8c11-f1d2fcabeb5c"
      },
      "outputs": [
        {
          "output_type": "stream",
          "name": "stderr",
          "text": [
            "<ipython-input-3-de5e5d0e1214>:4: DtypeWarning: Columns (22) have mixed types. Specify dtype option on import or set low_memory=False.\n",
            "  df = pd.read_csv(io.BytesIO(uploaded['sales_dataset.csv']))\n"
          ]
        },
        {
          "output_type": "execute_result",
          "data": {
            "text/plain": [
              "              Order ID      Date                        Status Fulfilment  \\\n",
              "0  405-8078784-5731545  04-30-22                     Cancelled   Merchant   \n",
              "1  171-9198151-1101146  04-30-22  Shipped - Delivered to Buyer   Merchant   \n",
              "2  404-0687676-7273146  04-30-22                       Shipped     Amazon   \n",
              "3  403-9615377-8133951  04-30-22                     Cancelled   Merchant   \n",
              "4  407-1069790-7240320  04-30-22                       Shipped     Amazon   \n",
              "\n",
              "  Sales Channel  ship-service-level    Style              SKU       Category  \\\n",
              "0      Amazon.in           Standard   SET389   SET389-KR-NP-S            Set   \n",
              "1      Amazon.in           Standard  JNE3781  JNE3781-KR-XXXL          kurta   \n",
              "2      Amazon.in          Expedited  JNE3371    JNE3371-KR-XL          kurta   \n",
              "3      Amazon.in           Standard    J0341       J0341-DR-L  Western Dress   \n",
              "4      Amazon.in          Expedited  JNE3671  JNE3671-TU-XXXL            Top   \n",
              "\n",
              "  Size  ... currency  Amount    ship-city   ship-state  ship-postal-code  \\\n",
              "0    S  ...      INR  647.62       MUMBAI  MAHARASHTRA          400081.0   \n",
              "1  3XL  ...      INR  406.00    BENGALURU    KARNATAKA          560085.0   \n",
              "2   XL  ...      INR  329.00  NAVI MUMBAI  MAHARASHTRA          410210.0   \n",
              "3    L  ...      INR  753.33   PUDUCHERRY   PUDUCHERRY          605008.0   \n",
              "4  3XL  ...      INR  574.00      CHENNAI   TAMIL NADU          600073.0   \n",
              "\n",
              "  ship-country                                      promotion-ids    B2B  \\\n",
              "0           IN                                                NaN  False   \n",
              "1           IN  Amazon PLCC Free-Financing Universal Merchant ...  False   \n",
              "2           IN       IN Core Free Shipping 2015/04/08 23-48-5-108   True   \n",
              "3           IN                                                NaN  False   \n",
              "4           IN                                                NaN  False   \n",
              "\n",
              "  fulfilled-by Unnamed: 22  \n",
              "0    Easy Ship         NaN  \n",
              "1    Easy Ship         NaN  \n",
              "2          NaN         NaN  \n",
              "3    Easy Ship         NaN  \n",
              "4          NaN         NaN  \n",
              "\n",
              "[5 rows x 23 columns]"
            ],
            "text/html": [
              "\n",
              "  <div id=\"df-cabb728b-32c3-4f10-a2ff-0e4f9e132350\" class=\"colab-df-container\">\n",
              "    <div>\n",
              "<style scoped>\n",
              "    .dataframe tbody tr th:only-of-type {\n",
              "        vertical-align: middle;\n",
              "    }\n",
              "\n",
              "    .dataframe tbody tr th {\n",
              "        vertical-align: top;\n",
              "    }\n",
              "\n",
              "    .dataframe thead th {\n",
              "        text-align: right;\n",
              "    }\n",
              "</style>\n",
              "<table border=\"1\" class=\"dataframe\">\n",
              "  <thead>\n",
              "    <tr style=\"text-align: right;\">\n",
              "      <th></th>\n",
              "      <th>Order ID</th>\n",
              "      <th>Date</th>\n",
              "      <th>Status</th>\n",
              "      <th>Fulfilment</th>\n",
              "      <th>Sales Channel</th>\n",
              "      <th>ship-service-level</th>\n",
              "      <th>Style</th>\n",
              "      <th>SKU</th>\n",
              "      <th>Category</th>\n",
              "      <th>Size</th>\n",
              "      <th>...</th>\n",
              "      <th>currency</th>\n",
              "      <th>Amount</th>\n",
              "      <th>ship-city</th>\n",
              "      <th>ship-state</th>\n",
              "      <th>ship-postal-code</th>\n",
              "      <th>ship-country</th>\n",
              "      <th>promotion-ids</th>\n",
              "      <th>B2B</th>\n",
              "      <th>fulfilled-by</th>\n",
              "      <th>Unnamed: 22</th>\n",
              "    </tr>\n",
              "  </thead>\n",
              "  <tbody>\n",
              "    <tr>\n",
              "      <th>0</th>\n",
              "      <td>405-8078784-5731545</td>\n",
              "      <td>04-30-22</td>\n",
              "      <td>Cancelled</td>\n",
              "      <td>Merchant</td>\n",
              "      <td>Amazon.in</td>\n",
              "      <td>Standard</td>\n",
              "      <td>SET389</td>\n",
              "      <td>SET389-KR-NP-S</td>\n",
              "      <td>Set</td>\n",
              "      <td>S</td>\n",
              "      <td>...</td>\n",
              "      <td>INR</td>\n",
              "      <td>647.62</td>\n",
              "      <td>MUMBAI</td>\n",
              "      <td>MAHARASHTRA</td>\n",
              "      <td>400081.0</td>\n",
              "      <td>IN</td>\n",
              "      <td>NaN</td>\n",
              "      <td>False</td>\n",
              "      <td>Easy Ship</td>\n",
              "      <td>NaN</td>\n",
              "    </tr>\n",
              "    <tr>\n",
              "      <th>1</th>\n",
              "      <td>171-9198151-1101146</td>\n",
              "      <td>04-30-22</td>\n",
              "      <td>Shipped - Delivered to Buyer</td>\n",
              "      <td>Merchant</td>\n",
              "      <td>Amazon.in</td>\n",
              "      <td>Standard</td>\n",
              "      <td>JNE3781</td>\n",
              "      <td>JNE3781-KR-XXXL</td>\n",
              "      <td>kurta</td>\n",
              "      <td>3XL</td>\n",
              "      <td>...</td>\n",
              "      <td>INR</td>\n",
              "      <td>406.00</td>\n",
              "      <td>BENGALURU</td>\n",
              "      <td>KARNATAKA</td>\n",
              "      <td>560085.0</td>\n",
              "      <td>IN</td>\n",
              "      <td>Amazon PLCC Free-Financing Universal Merchant ...</td>\n",
              "      <td>False</td>\n",
              "      <td>Easy Ship</td>\n",
              "      <td>NaN</td>\n",
              "    </tr>\n",
              "    <tr>\n",
              "      <th>2</th>\n",
              "      <td>404-0687676-7273146</td>\n",
              "      <td>04-30-22</td>\n",
              "      <td>Shipped</td>\n",
              "      <td>Amazon</td>\n",
              "      <td>Amazon.in</td>\n",
              "      <td>Expedited</td>\n",
              "      <td>JNE3371</td>\n",
              "      <td>JNE3371-KR-XL</td>\n",
              "      <td>kurta</td>\n",
              "      <td>XL</td>\n",
              "      <td>...</td>\n",
              "      <td>INR</td>\n",
              "      <td>329.00</td>\n",
              "      <td>NAVI MUMBAI</td>\n",
              "      <td>MAHARASHTRA</td>\n",
              "      <td>410210.0</td>\n",
              "      <td>IN</td>\n",
              "      <td>IN Core Free Shipping 2015/04/08 23-48-5-108</td>\n",
              "      <td>True</td>\n",
              "      <td>NaN</td>\n",
              "      <td>NaN</td>\n",
              "    </tr>\n",
              "    <tr>\n",
              "      <th>3</th>\n",
              "      <td>403-9615377-8133951</td>\n",
              "      <td>04-30-22</td>\n",
              "      <td>Cancelled</td>\n",
              "      <td>Merchant</td>\n",
              "      <td>Amazon.in</td>\n",
              "      <td>Standard</td>\n",
              "      <td>J0341</td>\n",
              "      <td>J0341-DR-L</td>\n",
              "      <td>Western Dress</td>\n",
              "      <td>L</td>\n",
              "      <td>...</td>\n",
              "      <td>INR</td>\n",
              "      <td>753.33</td>\n",
              "      <td>PUDUCHERRY</td>\n",
              "      <td>PUDUCHERRY</td>\n",
              "      <td>605008.0</td>\n",
              "      <td>IN</td>\n",
              "      <td>NaN</td>\n",
              "      <td>False</td>\n",
              "      <td>Easy Ship</td>\n",
              "      <td>NaN</td>\n",
              "    </tr>\n",
              "    <tr>\n",
              "      <th>4</th>\n",
              "      <td>407-1069790-7240320</td>\n",
              "      <td>04-30-22</td>\n",
              "      <td>Shipped</td>\n",
              "      <td>Amazon</td>\n",
              "      <td>Amazon.in</td>\n",
              "      <td>Expedited</td>\n",
              "      <td>JNE3671</td>\n",
              "      <td>JNE3671-TU-XXXL</td>\n",
              "      <td>Top</td>\n",
              "      <td>3XL</td>\n",
              "      <td>...</td>\n",
              "      <td>INR</td>\n",
              "      <td>574.00</td>\n",
              "      <td>CHENNAI</td>\n",
              "      <td>TAMIL NADU</td>\n",
              "      <td>600073.0</td>\n",
              "      <td>IN</td>\n",
              "      <td>NaN</td>\n",
              "      <td>False</td>\n",
              "      <td>NaN</td>\n",
              "      <td>NaN</td>\n",
              "    </tr>\n",
              "  </tbody>\n",
              "</table>\n",
              "<p>5 rows × 23 columns</p>\n",
              "</div>\n",
              "    <div class=\"colab-df-buttons\">\n",
              "\n",
              "  <div class=\"colab-df-container\">\n",
              "    <button class=\"colab-df-convert\" onclick=\"convertToInteractive('df-cabb728b-32c3-4f10-a2ff-0e4f9e132350')\"\n",
              "            title=\"Convert this dataframe to an interactive table.\"\n",
              "            style=\"display:none;\">\n",
              "\n",
              "  <svg xmlns=\"http://www.w3.org/2000/svg\" height=\"24px\" viewBox=\"0 -960 960 960\">\n",
              "    <path d=\"M120-120v-720h720v720H120Zm60-500h600v-160H180v160Zm220 220h160v-160H400v160Zm0 220h160v-160H400v160ZM180-400h160v-160H180v160Zm440 0h160v-160H620v160ZM180-180h160v-160H180v160Zm440 0h160v-160H620v160Z\"/>\n",
              "  </svg>\n",
              "    </button>\n",
              "\n",
              "  <style>\n",
              "    .colab-df-container {\n",
              "      display:flex;\n",
              "      gap: 12px;\n",
              "    }\n",
              "\n",
              "    .colab-df-convert {\n",
              "      background-color: #E8F0FE;\n",
              "      border: none;\n",
              "      border-radius: 50%;\n",
              "      cursor: pointer;\n",
              "      display: none;\n",
              "      fill: #1967D2;\n",
              "      height: 32px;\n",
              "      padding: 0 0 0 0;\n",
              "      width: 32px;\n",
              "    }\n",
              "\n",
              "    .colab-df-convert:hover {\n",
              "      background-color: #E2EBFA;\n",
              "      box-shadow: 0px 1px 2px rgba(60, 64, 67, 0.3), 0px 1px 3px 1px rgba(60, 64, 67, 0.15);\n",
              "      fill: #174EA6;\n",
              "    }\n",
              "\n",
              "    .colab-df-buttons div {\n",
              "      margin-bottom: 4px;\n",
              "    }\n",
              "\n",
              "    [theme=dark] .colab-df-convert {\n",
              "      background-color: #3B4455;\n",
              "      fill: #D2E3FC;\n",
              "    }\n",
              "\n",
              "    [theme=dark] .colab-df-convert:hover {\n",
              "      background-color: #434B5C;\n",
              "      box-shadow: 0px 1px 3px 1px rgba(0, 0, 0, 0.15);\n",
              "      filter: drop-shadow(0px 1px 2px rgba(0, 0, 0, 0.3));\n",
              "      fill: #FFFFFF;\n",
              "    }\n",
              "  </style>\n",
              "\n",
              "    <script>\n",
              "      const buttonEl =\n",
              "        document.querySelector('#df-cabb728b-32c3-4f10-a2ff-0e4f9e132350 button.colab-df-convert');\n",
              "      buttonEl.style.display =\n",
              "        google.colab.kernel.accessAllowed ? 'block' : 'none';\n",
              "\n",
              "      async function convertToInteractive(key) {\n",
              "        const element = document.querySelector('#df-cabb728b-32c3-4f10-a2ff-0e4f9e132350');\n",
              "        const dataTable =\n",
              "          await google.colab.kernel.invokeFunction('convertToInteractive',\n",
              "                                                    [key], {});\n",
              "        if (!dataTable) return;\n",
              "\n",
              "        const docLinkHtml = 'Like what you see? Visit the ' +\n",
              "          '<a target=\"_blank\" href=https://colab.research.google.com/notebooks/data_table.ipynb>data table notebook</a>'\n",
              "          + ' to learn more about interactive tables.';\n",
              "        element.innerHTML = '';\n",
              "        dataTable['output_type'] = 'display_data';\n",
              "        await google.colab.output.renderOutput(dataTable, element);\n",
              "        const docLink = document.createElement('div');\n",
              "        docLink.innerHTML = docLinkHtml;\n",
              "        element.appendChild(docLink);\n",
              "      }\n",
              "    </script>\n",
              "  </div>\n",
              "\n",
              "\n",
              "<div id=\"df-12c81e58-23fa-4c96-906b-233bed9387e2\">\n",
              "  <button class=\"colab-df-quickchart\" onclick=\"quickchart('df-12c81e58-23fa-4c96-906b-233bed9387e2')\"\n",
              "            title=\"Suggest charts\"\n",
              "            style=\"display:none;\">\n",
              "\n",
              "<svg xmlns=\"http://www.w3.org/2000/svg\" height=\"24px\"viewBox=\"0 0 24 24\"\n",
              "     width=\"24px\">\n",
              "    <g>\n",
              "        <path d=\"M19 3H5c-1.1 0-2 .9-2 2v14c0 1.1.9 2 2 2h14c1.1 0 2-.9 2-2V5c0-1.1-.9-2-2-2zM9 17H7v-7h2v7zm4 0h-2V7h2v10zm4 0h-2v-4h2v4z\"/>\n",
              "    </g>\n",
              "</svg>\n",
              "  </button>\n",
              "\n",
              "<style>\n",
              "  .colab-df-quickchart {\n",
              "      --bg-color: #E8F0FE;\n",
              "      --fill-color: #1967D2;\n",
              "      --hover-bg-color: #E2EBFA;\n",
              "      --hover-fill-color: #174EA6;\n",
              "      --disabled-fill-color: #AAA;\n",
              "      --disabled-bg-color: #DDD;\n",
              "  }\n",
              "\n",
              "  [theme=dark] .colab-df-quickchart {\n",
              "      --bg-color: #3B4455;\n",
              "      --fill-color: #D2E3FC;\n",
              "      --hover-bg-color: #434B5C;\n",
              "      --hover-fill-color: #FFFFFF;\n",
              "      --disabled-bg-color: #3B4455;\n",
              "      --disabled-fill-color: #666;\n",
              "  }\n",
              "\n",
              "  .colab-df-quickchart {\n",
              "    background-color: var(--bg-color);\n",
              "    border: none;\n",
              "    border-radius: 50%;\n",
              "    cursor: pointer;\n",
              "    display: none;\n",
              "    fill: var(--fill-color);\n",
              "    height: 32px;\n",
              "    padding: 0;\n",
              "    width: 32px;\n",
              "  }\n",
              "\n",
              "  .colab-df-quickchart:hover {\n",
              "    background-color: var(--hover-bg-color);\n",
              "    box-shadow: 0 1px 2px rgba(60, 64, 67, 0.3), 0 1px 3px 1px rgba(60, 64, 67, 0.15);\n",
              "    fill: var(--button-hover-fill-color);\n",
              "  }\n",
              "\n",
              "  .colab-df-quickchart-complete:disabled,\n",
              "  .colab-df-quickchart-complete:disabled:hover {\n",
              "    background-color: var(--disabled-bg-color);\n",
              "    fill: var(--disabled-fill-color);\n",
              "    box-shadow: none;\n",
              "  }\n",
              "\n",
              "  .colab-df-spinner {\n",
              "    border: 2px solid var(--fill-color);\n",
              "    border-color: transparent;\n",
              "    border-bottom-color: var(--fill-color);\n",
              "    animation:\n",
              "      spin 1s steps(1) infinite;\n",
              "  }\n",
              "\n",
              "  @keyframes spin {\n",
              "    0% {\n",
              "      border-color: transparent;\n",
              "      border-bottom-color: var(--fill-color);\n",
              "      border-left-color: var(--fill-color);\n",
              "    }\n",
              "    20% {\n",
              "      border-color: transparent;\n",
              "      border-left-color: var(--fill-color);\n",
              "      border-top-color: var(--fill-color);\n",
              "    }\n",
              "    30% {\n",
              "      border-color: transparent;\n",
              "      border-left-color: var(--fill-color);\n",
              "      border-top-color: var(--fill-color);\n",
              "      border-right-color: var(--fill-color);\n",
              "    }\n",
              "    40% {\n",
              "      border-color: transparent;\n",
              "      border-right-color: var(--fill-color);\n",
              "      border-top-color: var(--fill-color);\n",
              "    }\n",
              "    60% {\n",
              "      border-color: transparent;\n",
              "      border-right-color: var(--fill-color);\n",
              "    }\n",
              "    80% {\n",
              "      border-color: transparent;\n",
              "      border-right-color: var(--fill-color);\n",
              "      border-bottom-color: var(--fill-color);\n",
              "    }\n",
              "    90% {\n",
              "      border-color: transparent;\n",
              "      border-bottom-color: var(--fill-color);\n",
              "    }\n",
              "  }\n",
              "</style>\n",
              "\n",
              "  <script>\n",
              "    async function quickchart(key) {\n",
              "      const quickchartButtonEl =\n",
              "        document.querySelector('#' + key + ' button');\n",
              "      quickchartButtonEl.disabled = true;  // To prevent multiple clicks.\n",
              "      quickchartButtonEl.classList.add('colab-df-spinner');\n",
              "      try {\n",
              "        const charts = await google.colab.kernel.invokeFunction(\n",
              "            'suggestCharts', [key], {});\n",
              "      } catch (error) {\n",
              "        console.error('Error during call to suggestCharts:', error);\n",
              "      }\n",
              "      quickchartButtonEl.classList.remove('colab-df-spinner');\n",
              "      quickchartButtonEl.classList.add('colab-df-quickchart-complete');\n",
              "    }\n",
              "    (() => {\n",
              "      let quickchartButtonEl =\n",
              "        document.querySelector('#df-12c81e58-23fa-4c96-906b-233bed9387e2 button');\n",
              "      quickchartButtonEl.style.display =\n",
              "        google.colab.kernel.accessAllowed ? 'block' : 'none';\n",
              "    })();\n",
              "  </script>\n",
              "</div>\n",
              "\n",
              "    </div>\n",
              "  </div>\n"
            ],
            "application/vnd.google.colaboratory.intrinsic+json": {
              "type": "dataframe",
              "variable_name": "df"
            }
          },
          "metadata": {},
          "execution_count": 3
        }
      ],
      "source": [
        "#opening the dataset and checking it\n",
        "\n",
        "import io\n",
        "df = pd.read_csv(io.BytesIO(uploaded['sales_dataset.csv']))\n",
        "df.head()"
      ]
    },
    {
      "cell_type": "code",
      "execution_count": null,
      "metadata": {
        "colab": {
          "base_uri": "https://localhost:8080/"
        },
        "id": "nAuihsyrHnyw",
        "outputId": "2f38aa5d-2183-4bcf-c07d-4fd7c891164e"
      },
      "outputs": [
        {
          "output_type": "execute_result",
          "data": {
            "text/plain": [
              "(128949, 23)"
            ]
          },
          "metadata": {},
          "execution_count": 4
        }
      ],
      "source": [
        "#Checking rows and columns\n",
        "\n",
        "df.shape"
      ]
    },
    {
      "cell_type": "code",
      "execution_count": null,
      "metadata": {
        "colab": {
          "base_uri": "https://localhost:8080/"
        },
        "id": "GA_H49RAFSUC",
        "outputId": "dbf07b3c-7f74-406d-8e4a-d9fb7472935d"
      },
      "outputs": [
        {
          "output_type": "stream",
          "name": "stdout",
          "text": [
            "<class 'pandas.core.frame.DataFrame'>\n",
            "RangeIndex: 128949 entries, 0 to 128948\n",
            "Data columns (total 23 columns):\n",
            " #   Column              Non-Null Count   Dtype  \n",
            "---  ------              --------------   -----  \n",
            " 0   Order ID            128949 non-null  object \n",
            " 1   Date                128949 non-null  object \n",
            " 2   Status              128949 non-null  object \n",
            " 3   Fulfilment          128949 non-null  object \n",
            " 4   Sales Channel       128949 non-null  object \n",
            " 5   ship-service-level  128949 non-null  object \n",
            " 6   Style               128949 non-null  object \n",
            " 7   SKU                 128949 non-null  object \n",
            " 8   Category            128949 non-null  object \n",
            " 9   Size                128949 non-null  object \n",
            " 10  ASIN                128949 non-null  object \n",
            " 11  Courier Status      122078 non-null  object \n",
            " 12  Qty                 128949 non-null  int64  \n",
            " 13  currency            121155 non-null  object \n",
            " 14  Amount              121155 non-null  float64\n",
            " 15  ship-city           128916 non-null  object \n",
            " 16  ship-state          128916 non-null  object \n",
            " 17  ship-postal-code    128916 non-null  float64\n",
            " 18  ship-country        128916 non-null  object \n",
            " 19  promotion-ids       79807 non-null   object \n",
            " 20  B2B                 128949 non-null  bool   \n",
            " 21  fulfilled-by        39270 non-null   object \n",
            " 22  Unnamed: 22         79908 non-null   object \n",
            "dtypes: bool(1), float64(2), int64(1), object(19)\n",
            "memory usage: 21.8+ MB\n"
          ]
        }
      ],
      "source": [
        "#chceking data types and null values in columns\n",
        "\n",
        "df.info()"
      ]
    },
    {
      "cell_type": "code",
      "execution_count": null,
      "metadata": {
        "id": "NHnCDCJyFW_h"
      },
      "outputs": [],
      "source": [
        "#column 22 is not of use so removing the column\n",
        "\n",
        "df.drop(columns = ['Unnamed: 22'], inplace=True)"
      ]
    },
    {
      "cell_type": "code",
      "execution_count": null,
      "metadata": {
        "id": "-YrKAXhxclii"
      },
      "outputs": [],
      "source": [
        "#removing all duplicates values in the dataset\n",
        "\n",
        "df.drop_duplicates(inplace=True)"
      ]
    },
    {
      "cell_type": "code",
      "execution_count": null,
      "metadata": {
        "colab": {
          "base_uri": "https://localhost:8080/"
        },
        "id": "4MF7XrSBFlCO",
        "outputId": "51b321bb-1b50-4c2e-b492-c7f0a08f42e1"
      },
      "outputs": [
        {
          "output_type": "stream",
          "name": "stderr",
          "text": [
            "<ipython-input-8-2b1d1f9185d9>:3: UserWarning: Could not infer format, so each element will be parsed individually, falling back to `dateutil`. To ensure parsing is consistent and as-expected, please specify a format.\n",
            "  df['Date'] = pd.to_datetime(df['Date'])\n"
          ]
        }
      ],
      "source": [
        "# Changing data types of columns as per need like date to datetime etc\n",
        "\n",
        "df['Date'] = pd.to_datetime(df['Date'])\n",
        "df['Status'] = df['Status'].astype('category')\n",
        "df['Fulfilment'] = df['Fulfilment'].astype('category')\n",
        "df['Sales Channel '] = df['Sales Channel '].astype('category')\n",
        "df['Ship-service-level'] = df['ship-service-level'].astype('category')\n",
        "df['Category'] = df['Category'].astype('category')\n",
        "df['Size'] = df['Size'].astype('category')\n",
        "df['B2B'] = df['B2B'].astype('bool')"
      ]
    },
    {
      "cell_type": "code",
      "source": [
        "# Setting amount 0 where order is cancelled\n",
        "df.loc[df['Status'] == 'Cancelled', 'Amount'] = 0"
      ],
      "metadata": {
        "id": "rtNVVGRgWp3J"
      },
      "execution_count": null,
      "outputs": []
    },
    {
      "cell_type": "code",
      "source": [
        "# getting median value\n",
        "df['Amount'].median()"
      ],
      "metadata": {
        "colab": {
          "base_uri": "https://localhost:8080/"
        },
        "id": "rXnSq78vXE7z",
        "outputId": "aea028a3-03c4-4b23-c00c-61e24d9a3637"
      },
      "execution_count": null,
      "outputs": [
        {
          "output_type": "execute_result",
          "data": {
            "text/plain": [
              "545.0"
            ]
          },
          "metadata": {},
          "execution_count": 10
        }
      ]
    },
    {
      "cell_type": "code",
      "execution_count": null,
      "metadata": {
        "id": "4-TKdFlET0Es"
      },
      "outputs": [],
      "source": [
        "# filling null values in amount section to the median of the amount as per given instructions in the test\n",
        "df[\"Amount\"] = df[\"Amount\"].fillna(df[\"Amount\"].median())"
      ]
    },
    {
      "cell_type": "code",
      "execution_count": null,
      "metadata": {
        "id": "TiWco06pW6EH"
      },
      "outputs": [],
      "source": [
        "# filling null values in currency column to same values\n",
        "df['currency'] = df['currency'].fillna('INR')"
      ]
    },
    {
      "cell_type": "code",
      "execution_count": null,
      "metadata": {
        "id": "8-OVV1mCX20z"
      },
      "outputs": [],
      "source": [
        "#dropping null values in city,state,postal code, country as data size is low\n",
        "df.dropna(subset=['ship-city', 'ship-state', 'ship-postal-code', 'ship-country'], inplace=True)"
      ]
    },
    {
      "cell_type": "code",
      "execution_count": null,
      "metadata": {
        "colab": {
          "base_uri": "https://localhost:8080/"
        },
        "id": "FQye6t8uUjJ4",
        "outputId": "4f025f9d-c8db-4df5-9610-26b6e4ea02ba"
      },
      "outputs": [
        {
          "output_type": "execute_result",
          "data": {
            "text/plain": [
              "Order ID                  0\n",
              "Date                      0\n",
              "Status                    0\n",
              "Fulfilment                0\n",
              "Sales Channel             0\n",
              "ship-service-level        0\n",
              "Style                     0\n",
              "SKU                       0\n",
              "Category                  0\n",
              "Size                      0\n",
              "ASIN                      0\n",
              "Courier Status         6868\n",
              "Qty                       0\n",
              "currency                  0\n",
              "Amount                    0\n",
              "ship-city                 0\n",
              "ship-state                0\n",
              "ship-postal-code          0\n",
              "ship-country              0\n",
              "promotion-ids         49131\n",
              "B2B                       0\n",
              "fulfilled-by          89653\n",
              "Ship-service-level        0\n",
              "dtype: int64"
            ],
            "text/html": [
              "<div>\n",
              "<style scoped>\n",
              "    .dataframe tbody tr th:only-of-type {\n",
              "        vertical-align: middle;\n",
              "    }\n",
              "\n",
              "    .dataframe tbody tr th {\n",
              "        vertical-align: top;\n",
              "    }\n",
              "\n",
              "    .dataframe thead th {\n",
              "        text-align: right;\n",
              "    }\n",
              "</style>\n",
              "<table border=\"1\" class=\"dataframe\">\n",
              "  <thead>\n",
              "    <tr style=\"text-align: right;\">\n",
              "      <th></th>\n",
              "      <th>0</th>\n",
              "    </tr>\n",
              "  </thead>\n",
              "  <tbody>\n",
              "    <tr>\n",
              "      <th>Order ID</th>\n",
              "      <td>0</td>\n",
              "    </tr>\n",
              "    <tr>\n",
              "      <th>Date</th>\n",
              "      <td>0</td>\n",
              "    </tr>\n",
              "    <tr>\n",
              "      <th>Status</th>\n",
              "      <td>0</td>\n",
              "    </tr>\n",
              "    <tr>\n",
              "      <th>Fulfilment</th>\n",
              "      <td>0</td>\n",
              "    </tr>\n",
              "    <tr>\n",
              "      <th>Sales Channel</th>\n",
              "      <td>0</td>\n",
              "    </tr>\n",
              "    <tr>\n",
              "      <th>ship-service-level</th>\n",
              "      <td>0</td>\n",
              "    </tr>\n",
              "    <tr>\n",
              "      <th>Style</th>\n",
              "      <td>0</td>\n",
              "    </tr>\n",
              "    <tr>\n",
              "      <th>SKU</th>\n",
              "      <td>0</td>\n",
              "    </tr>\n",
              "    <tr>\n",
              "      <th>Category</th>\n",
              "      <td>0</td>\n",
              "    </tr>\n",
              "    <tr>\n",
              "      <th>Size</th>\n",
              "      <td>0</td>\n",
              "    </tr>\n",
              "    <tr>\n",
              "      <th>ASIN</th>\n",
              "      <td>0</td>\n",
              "    </tr>\n",
              "    <tr>\n",
              "      <th>Courier Status</th>\n",
              "      <td>6868</td>\n",
              "    </tr>\n",
              "    <tr>\n",
              "      <th>Qty</th>\n",
              "      <td>0</td>\n",
              "    </tr>\n",
              "    <tr>\n",
              "      <th>currency</th>\n",
              "      <td>0</td>\n",
              "    </tr>\n",
              "    <tr>\n",
              "      <th>Amount</th>\n",
              "      <td>0</td>\n",
              "    </tr>\n",
              "    <tr>\n",
              "      <th>ship-city</th>\n",
              "      <td>0</td>\n",
              "    </tr>\n",
              "    <tr>\n",
              "      <th>ship-state</th>\n",
              "      <td>0</td>\n",
              "    </tr>\n",
              "    <tr>\n",
              "      <th>ship-postal-code</th>\n",
              "      <td>0</td>\n",
              "    </tr>\n",
              "    <tr>\n",
              "      <th>ship-country</th>\n",
              "      <td>0</td>\n",
              "    </tr>\n",
              "    <tr>\n",
              "      <th>promotion-ids</th>\n",
              "      <td>49131</td>\n",
              "    </tr>\n",
              "    <tr>\n",
              "      <th>B2B</th>\n",
              "      <td>0</td>\n",
              "    </tr>\n",
              "    <tr>\n",
              "      <th>fulfilled-by</th>\n",
              "      <td>89653</td>\n",
              "    </tr>\n",
              "    <tr>\n",
              "      <th>Ship-service-level</th>\n",
              "      <td>0</td>\n",
              "    </tr>\n",
              "  </tbody>\n",
              "</table>\n",
              "</div><br><label><b>dtype:</b> int64</label>"
            ]
          },
          "metadata": {},
          "execution_count": 14
        }
      ],
      "source": [
        "#chceking null values in every columns\n",
        "df.isna().sum()"
      ]
    },
    {
      "cell_type": "markdown",
      "metadata": {
        "id": "jVTyuQ_rYpaK"
      },
      "source": [
        "**Data is clean and ready to analyze now**"
      ]
    },
    {
      "cell_type": "markdown",
      "metadata": {
        "id": "wWHylS2Krapa"
      },
      "source": [
        "# **Starting Analysis of the data**"
      ]
    },
    {
      "cell_type": "markdown",
      "metadata": {
        "id": "Z6j7Wuf1s6vx"
      },
      "source": [
        "# Financial Performance"
      ]
    },
    {
      "cell_type": "code",
      "execution_count": null,
      "metadata": {
        "colab": {
          "base_uri": "https://localhost:8080/"
        },
        "id": "CVxdaNItYuaQ",
        "outputId": "1f670dd6-dbab-42d9-a2af-1063fdd41a08"
      },
      "outputs": [
        {
          "output_type": "stream",
          "name": "stdout",
          "text": [
            "71755672\n"
          ]
        }
      ],
      "source": [
        "# Total Revenue\n",
        "\n",
        "Total_Revenue = int(df['Amount'].sum())\n",
        "print(Total_Revenue)\n"
      ]
    },
    {
      "cell_type": "code",
      "execution_count": null,
      "metadata": {
        "colab": {
          "base_uri": "https://localhost:8080/"
        },
        "id": "rmfPPbY5eIgX",
        "outputId": "cde8d032-4a02-4564-e0ae-20093582beda"
      },
      "outputs": [
        {
          "output_type": "stream",
          "name": "stdout",
          "text": [
            "128910\n"
          ]
        }
      ],
      "source": [
        "# Total Orders\n",
        "\n",
        "Total_Order = df['Order ID'].count()\n",
        "print(Total_Order)"
      ]
    },
    {
      "cell_type": "code",
      "execution_count": null,
      "metadata": {
        "colab": {
          "base_uri": "https://localhost:8080/"
        },
        "id": "1N8kSp2WZ4K4",
        "outputId": "86526296-2c75-4088-b5f1-c6f460377d64"
      },
      "outputs": [
        {
          "output_type": "execute_result",
          "data": {
            "text/plain": [
              "SKU\n",
              "JNE3797-KR-L       661\n",
              "JNE3797-KR-M       560\n",
              "JNE3797-KR-S       503\n",
              "JNE3405-KR-L       485\n",
              "J0230-SKD-M        468\n",
              "J0230-SKD-S        421\n",
              "JNE3797-KR-XL      416\n",
              "JNE3405-KR-S       399\n",
              "JNE3797-KR-XS      386\n",
              "SET268-KR-NP-XL    373\n",
              "Name: Qty, dtype: int64"
            ],
            "text/html": [
              "<div>\n",
              "<style scoped>\n",
              "    .dataframe tbody tr th:only-of-type {\n",
              "        vertical-align: middle;\n",
              "    }\n",
              "\n",
              "    .dataframe tbody tr th {\n",
              "        vertical-align: top;\n",
              "    }\n",
              "\n",
              "    .dataframe thead th {\n",
              "        text-align: right;\n",
              "    }\n",
              "</style>\n",
              "<table border=\"1\" class=\"dataframe\">\n",
              "  <thead>\n",
              "    <tr style=\"text-align: right;\">\n",
              "      <th></th>\n",
              "      <th>Qty</th>\n",
              "    </tr>\n",
              "    <tr>\n",
              "      <th>SKU</th>\n",
              "      <th></th>\n",
              "    </tr>\n",
              "  </thead>\n",
              "  <tbody>\n",
              "    <tr>\n",
              "      <th>JNE3797-KR-L</th>\n",
              "      <td>661</td>\n",
              "    </tr>\n",
              "    <tr>\n",
              "      <th>JNE3797-KR-M</th>\n",
              "      <td>560</td>\n",
              "    </tr>\n",
              "    <tr>\n",
              "      <th>JNE3797-KR-S</th>\n",
              "      <td>503</td>\n",
              "    </tr>\n",
              "    <tr>\n",
              "      <th>JNE3405-KR-L</th>\n",
              "      <td>485</td>\n",
              "    </tr>\n",
              "    <tr>\n",
              "      <th>J0230-SKD-M</th>\n",
              "      <td>468</td>\n",
              "    </tr>\n",
              "    <tr>\n",
              "      <th>J0230-SKD-S</th>\n",
              "      <td>421</td>\n",
              "    </tr>\n",
              "    <tr>\n",
              "      <th>JNE3797-KR-XL</th>\n",
              "      <td>416</td>\n",
              "    </tr>\n",
              "    <tr>\n",
              "      <th>JNE3405-KR-S</th>\n",
              "      <td>399</td>\n",
              "    </tr>\n",
              "    <tr>\n",
              "      <th>JNE3797-KR-XS</th>\n",
              "      <td>386</td>\n",
              "    </tr>\n",
              "    <tr>\n",
              "      <th>SET268-KR-NP-XL</th>\n",
              "      <td>373</td>\n",
              "    </tr>\n",
              "  </tbody>\n",
              "</table>\n",
              "</div><br><label><b>dtype:</b> int64</label>"
            ]
          },
          "metadata": {},
          "execution_count": 16
        }
      ],
      "source": [
        "# Top Selling Products as per SKU\n",
        "\n",
        "df.groupby(\"SKU\")['Qty'].sum().sort_values(ascending=False).head(10)"
      ]
    },
    {
      "cell_type": "code",
      "source": [
        "#visualization of top 10 selling products\n",
        "\n",
        "# find top-selling products\n",
        "top_selling_products = df.groupby('SKU')['Qty'].sum().reset_index()\n",
        "\n",
        "# Sort the products by total sales amount in descending order\n",
        "top_selling_products = top_selling_products.sort_values(by='Qty', ascending=False)\n",
        "\n",
        "# Select the top 10 selling products\n",
        "top_10_selling = top_selling_products.head(10)\n",
        "\n",
        "# Plot the data using Seaborn for a better visualization\n",
        "plt.figure(figsize=(10, 6))\n",
        "sns.barplot(data=top_10_selling, x='Qty', y='SKU', palette='viridis',width = 0.5)\n",
        "\n",
        "# Adding labels and title\n",
        "plt.title('Top 10 Selling Products')\n",
        "plt.xlabel('Total Sales Quantity')\n",
        "plt.ylabel('Product SKU')\n",
        "plt.tight_layout()\n",
        "\n",
        "# Show the plot\n",
        "plt.show()"
      ],
      "metadata": {
        "colab": {
          "base_uri": "https://localhost:8080/"
        },
        "id": "xHKekChUnIEp",
        "outputId": "3e9bac42-6c99-4896-c501-3af0fd920201"
      },
      "execution_count": null,
      "outputs": [
        {
          "output_type": "stream",
          "name": "stderr",
          "text": [
            "<ipython-input-17-f91cef4fcb82>:14: FutureWarning: \n",
            "\n",
            "Passing `palette` without assigning `hue` is deprecated and will be removed in v0.14.0. Assign the `y` variable to `hue` and set `legend=False` for the same effect.\n",
            "\n",
            "  sns.barplot(data=top_10_selling, x='Qty', y='SKU', palette='viridis',width = 0.5)\n"
          ]
        },
        {
          "output_type": "display_data",
          "data": {
            "text/plain": [
              "<Figure size 1000x600 with 1 Axes>"
            ],
            "image/png": "[encoded data removed]"
          },
          "metadata": {}
        }
      ]
    },
    {
      "cell_type": "code",
      "execution_count": null,
      "metadata": {
        "colab": {
          "base_uri": "https://localhost:8080/"
        },
        "id": "q7QAzfVXtYeu",
        "outputId": "6f7eea5b-6e68-4cea-b90f-6df5ddda26e6"
      },
      "outputs": [
        {
          "output_type": "stream",
          "name": "stderr",
          "text": [
            "<ipython-input-18-c12255084ff8>:3: FutureWarning: The default of observed=False is deprecated and will be changed to True in a future version of pandas. Pass observed=False to retain current behavior or observed=True to adopt the future default and silence this warning.\n",
            "  df.groupby('Category')['Qty'].sum().sort_values(ascending=False).head(10)\n"
          ]
        },
        {
          "output_type": "execute_result",
          "data": {
            "text/plain": [
              "Category\n",
              "Set              45275\n",
              "kurta            45034\n",
              "Western Dress    13942\n",
              "Top               9900\n",
              "Ethnic Dress      1052\n",
              "Blouse             864\n",
              "Bottom             398\n",
              "Saree              152\n",
              "Dupatta              3\n",
              "Name: Qty, dtype: int64"
            ],
            "text/html": [
              "<div>\n",
              "<style scoped>\n",
              "    .dataframe tbody tr th:only-of-type {\n",
              "        vertical-align: middle;\n",
              "    }\n",
              "\n",
              "    .dataframe tbody tr th {\n",
              "        vertical-align: top;\n",
              "    }\n",
              "\n",
              "    .dataframe thead th {\n",
              "        text-align: right;\n",
              "    }\n",
              "</style>\n",
              "<table border=\"1\" class=\"dataframe\">\n",
              "  <thead>\n",
              "    <tr style=\"text-align: right;\">\n",
              "      <th></th>\n",
              "      <th>Qty</th>\n",
              "    </tr>\n",
              "    <tr>\n",
              "      <th>Category</th>\n",
              "      <th></th>\n",
              "    </tr>\n",
              "  </thead>\n",
              "  <tbody>\n",
              "    <tr>\n",
              "      <th>Set</th>\n",
              "      <td>45275</td>\n",
              "    </tr>\n",
              "    <tr>\n",
              "      <th>kurta</th>\n",
              "      <td>45034</td>\n",
              "    </tr>\n",
              "    <tr>\n",
              "      <th>Western Dress</th>\n",
              "      <td>13942</td>\n",
              "    </tr>\n",
              "    <tr>\n",
              "      <th>Top</th>\n",
              "      <td>9900</td>\n",
              "    </tr>\n",
              "    <tr>\n",
              "      <th>Ethnic Dress</th>\n",
              "      <td>1052</td>\n",
              "    </tr>\n",
              "    <tr>\n",
              "      <th>Blouse</th>\n",
              "      <td>864</td>\n",
              "    </tr>\n",
              "    <tr>\n",
              "      <th>Bottom</th>\n",
              "      <td>398</td>\n",
              "    </tr>\n",
              "    <tr>\n",
              "      <th>Saree</th>\n",
              "      <td>152</td>\n",
              "    </tr>\n",
              "    <tr>\n",
              "      <th>Dupatta</th>\n",
              "      <td>3</td>\n",
              "    </tr>\n",
              "  </tbody>\n",
              "</table>\n",
              "</div><br><label><b>dtype:</b> int64</label>"
            ]
          },
          "metadata": {},
          "execution_count": 18
        }
      ],
      "source": [
        "# Top selling Category\n",
        "\n",
        "df.groupby('Category')['Qty'].sum().sort_values(ascending=False).head(10)"
      ]
    },
    {
      "cell_type": "code",
      "source": [
        "#visualization of top selling category\n",
        "\n",
        "# find total quantity sold per category\n",
        "category_sales_qty = df.groupby('Category')['Qty'].sum().reset_index()\n",
        "\n",
        "# Sort the categories by total quantity in descending order\n",
        "category_sales_qty_sorted = category_sales_qty.sort_values(by='Qty', ascending=False)\n",
        "\n",
        "# Plot the data using Seaborn for a better visualization\n",
        "plt.figure(figsize=(10, 6))\n",
        "sns.barplot(data=category_sales_qty_sorted, x='Qty', y='Category', palette='viridis',width = 0.5)\n",
        "\n",
        "# Adding labels and title\n",
        "plt.title('All Categories by Total Quantity Sold')\n",
        "plt.xlabel('Total Quantity Sold')\n",
        "plt.ylabel('Product Category')\n",
        "plt.tight_layout()\n",
        "\n",
        "# Show the plot\n",
        "plt.show()"
      ],
      "metadata": {
        "colab": {
          "base_uri": "https://localhost:8080/"
        },
        "id": "g_asbxo_pNgY",
        "outputId": "164254f6-ae42-40c1-eae1-b1317d5a82e5"
      },
      "execution_count": null,
      "outputs": [
        {
          "output_type": "stream",
          "name": "stderr",
          "text": [
            "<ipython-input-19-e29d21549eb7>:4: FutureWarning: The default of observed=False is deprecated and will be changed to True in a future version of pandas. Pass observed=False to retain current behavior or observed=True to adopt the future default and silence this warning.\n",
            "  category_sales_qty = df.groupby('Category')['Qty'].sum().reset_index()\n",
            "<ipython-input-19-e29d21549eb7>:11: FutureWarning: \n",
            "\n",
            "Passing `palette` without assigning `hue` is deprecated and will be removed in v0.14.0. Assign the `y` variable to `hue` and set `legend=False` for the same effect.\n",
            "\n",
            "  sns.barplot(data=category_sales_qty_sorted, x='Qty', y='Category', palette='viridis',width = 0.5)\n"
          ]
        },
        {
          "output_type": "display_data",
          "data": {
            "text/plain": [
              "<Figure size 1000x600 with 1 Axes>"
            ],
            "image/png": "[encoded data removed]"
          },
          "metadata": {}
        }
      ]
    },
    {
      "cell_type": "code",
      "execution_count": null,
      "metadata": {
        "colab": {
          "base_uri": "https://localhost:8080/"
        },
        "id": "QmRQS8e1dP7-",
        "outputId": "e238d4ba-0923-4203-ecc7-99c535ee0532"
      },
      "outputs": [
        {
          "output_type": "execute_result",
          "data": {
            "text/plain": [
              "556.63"
            ]
          },
          "metadata": {},
          "execution_count": 20
        }
      ],
      "source": [
        "# Average Order Value\n",
        "\n",
        "round(df['Amount'].mean(),2)"
      ]
    },
    {
      "cell_type": "markdown",
      "metadata": {
        "id": "HyJJZH3duQ_m"
      },
      "source": [
        "**Peak Sales Period**"
      ]
    },
    {
      "cell_type": "code",
      "source": [
        "# making new column w.r.t. day name from date column\n",
        "df['DayName'] = df['Date'].dt.day_name()"
      ],
      "metadata": {
        "id": "1aXjXh9OXeeT"
      },
      "execution_count": null,
      "outputs": []
    },
    {
      "cell_type": "code",
      "source": [
        "# Peak Sales - Day Wise\n",
        "\n",
        "df.groupby('DayName')['Amount'].sum().sort_values(ascending=False)"
      ],
      "metadata": {
        "colab": {
          "base_uri": "https://localhost:8080/"
        },
        "id": "0GSDkzGQX4FV",
        "outputId": "95def5cb-4b88-4f4c-e395-ad112b5f5e4d"
      },
      "execution_count": null,
      "outputs": [
        {
          "output_type": "execute_result",
          "data": {
            "text/plain": [
              "DayName\n",
              "Sunday       11009530.00\n",
              "Tuesday      10487472.00\n",
              "Wednesday    10311378.00\n",
              "Monday       10301063.00\n",
              "Saturday     10297316.62\n",
              "Friday        9859181.00\n",
              "Thursday      9489732.00\n",
              "Name: Amount, dtype: float64"
            ],
            "text/html": [
              "<div>\n",
              "<style scoped>\n",
              "    .dataframe tbody tr th:only-of-type {\n",
              "        vertical-align: middle;\n",
              "    }\n",
              "\n",
              "    .dataframe tbody tr th {\n",
              "        vertical-align: top;\n",
              "    }\n",
              "\n",
              "    .dataframe thead th {\n",
              "        text-align: right;\n",
              "    }\n",
              "</style>\n",
              "<table border=\"1\" class=\"dataframe\">\n",
              "  <thead>\n",
              "    <tr style=\"text-align: right;\">\n",
              "      <th></th>\n",
              "      <th>Amount</th>\n",
              "    </tr>\n",
              "    <tr>\n",
              "      <th>DayName</th>\n",
              "      <th></th>\n",
              "    </tr>\n",
              "  </thead>\n",
              "  <tbody>\n",
              "    <tr>\n",
              "      <th>Sunday</th>\n",
              "      <td>11009530.00</td>\n",
              "    </tr>\n",
              "    <tr>\n",
              "      <th>Tuesday</th>\n",
              "      <td>10487472.00</td>\n",
              "    </tr>\n",
              "    <tr>\n",
              "      <th>Wednesday</th>\n",
              "      <td>10311378.00</td>\n",
              "    </tr>\n",
              "    <tr>\n",
              "      <th>Monday</th>\n",
              "      <td>10301063.00</td>\n",
              "    </tr>\n",
              "    <tr>\n",
              "      <th>Saturday</th>\n",
              "      <td>10297316.62</td>\n",
              "    </tr>\n",
              "    <tr>\n",
              "      <th>Friday</th>\n",
              "      <td>9859181.00</td>\n",
              "    </tr>\n",
              "    <tr>\n",
              "      <th>Thursday</th>\n",
              "      <td>9489732.00</td>\n",
              "    </tr>\n",
              "  </tbody>\n",
              "</table>\n",
              "</div><br><label><b>dtype:</b> float64</label>"
            ]
          },
          "metadata": {},
          "execution_count": 22
        }
      ]
    },
    {
      "cell_type": "code",
      "source": [
        "#visualization of peak day sales by day wise\n",
        "\n",
        "# sum the Amount for total sales per day\n",
        "daywise_sales = df.groupby('DayName')['Amount'].sum().reset_index()\n",
        "\n",
        "# the correct order of days from Monday to Sunday\n",
        "day_order = ['Monday', 'Tuesday', 'Wednesday', 'Thursday', 'Friday', 'Saturday', 'Sunday']\n",
        "\n",
        "# Reorder the 'DayName' column to follow the correct order\n",
        "daywise_sales['DayName'] = pd.Categorical(daywise_sales['DayName'], categories=day_order, ordered=True)\n",
        "daywise_sales = daywise_sales.sort_values('DayName')\n",
        "\n",
        "# Plot the data using Seaborn for a better visualization\n",
        "plt.figure(figsize=(10, 6))\n",
        "sns.barplot(data=daywise_sales, x='DayName', y='Amount', palette='viridis', width = 0.5)\n",
        "\n",
        "# Adding labels and title\n",
        "plt.title('Day-wise Peak Sales (Amount) by Day of the Week')\n",
        "plt.xlabel('Day of the Week')\n",
        "plt.ylabel('Total Sales Amount')\n",
        "plt.tight_layout()\n",
        "\n",
        "# Show the plot\n",
        "plt.show()"
      ],
      "metadata": {
        "colab": {
          "base_uri": "https://localhost:8080/"
        },
        "id": "J72b3vSCcdIS",
        "outputId": "059436fe-8d11-425a-b38e-749349377bf8"
      },
      "execution_count": null,
      "outputs": [
        {
          "output_type": "stream",
          "name": "stderr",
          "text": [
            "<ipython-input-23-18fb1117d837>:15: FutureWarning: \n",
            "\n",
            "Passing `palette` without assigning `hue` is deprecated and will be removed in v0.14.0. Assign the `x` variable to `hue` and set `legend=False` for the same effect.\n",
            "\n",
            "  sns.barplot(data=daywise_sales, x='DayName', y='Amount', palette='viridis', width = 0.5)\n"
          ]
        },
        {
          "output_type": "display_data",
          "data": {
            "text/plain": [
              "<Figure size 1000x600 with 1 Axes>"
            ],
            "image/png": "[encoded data removed]"
          },
          "metadata": {}
        }
      ]
    },
    {
      "cell_type": "code",
      "execution_count": null,
      "metadata": {
        "colab": {
          "base_uri": "https://localhost:8080/"
        },
        "id": "X04TlihNuFiQ",
        "outputId": "35816870-9b92-44c4-8aa2-ade35d1556d8"
      },
      "outputs": [
        {
          "output_type": "execute_result",
          "data": {
            "text/plain": [
              "Date\n",
              "2022-05-04    1107457.0\n",
              "2022-05-03    1085967.0\n",
              "2022-05-02    1074014.0\n",
              "2022-04-14    1023687.0\n",
              "2022-04-20    1017403.0\n",
              "Freq: D, Name: Amount, dtype: float64"
            ],
            "text/html": [
              "<div>\n",
              "<style scoped>\n",
              "    .dataframe tbody tr th:only-of-type {\n",
              "        vertical-align: middle;\n",
              "    }\n",
              "\n",
              "    .dataframe tbody tr th {\n",
              "        vertical-align: top;\n",
              "    }\n",
              "\n",
              "    .dataframe thead th {\n",
              "        text-align: right;\n",
              "    }\n",
              "</style>\n",
              "<table border=\"1\" class=\"dataframe\">\n",
              "  <thead>\n",
              "    <tr style=\"text-align: right;\">\n",
              "      <th></th>\n",
              "      <th>Amount</th>\n",
              "    </tr>\n",
              "    <tr>\n",
              "      <th>Date</th>\n",
              "      <th></th>\n",
              "    </tr>\n",
              "  </thead>\n",
              "  <tbody>\n",
              "    <tr>\n",
              "      <th>2022-05-04</th>\n",
              "      <td>1107457.0</td>\n",
              "    </tr>\n",
              "    <tr>\n",
              "      <th>2022-05-03</th>\n",
              "      <td>1085967.0</td>\n",
              "    </tr>\n",
              "    <tr>\n",
              "      <th>2022-05-02</th>\n",
              "      <td>1074014.0</td>\n",
              "    </tr>\n",
              "    <tr>\n",
              "      <th>2022-04-14</th>\n",
              "      <td>1023687.0</td>\n",
              "    </tr>\n",
              "    <tr>\n",
              "      <th>2022-04-20</th>\n",
              "      <td>1017403.0</td>\n",
              "    </tr>\n",
              "  </tbody>\n",
              "</table>\n",
              "</div><br><label><b>dtype:</b> float64</label>"
            ]
          },
          "metadata": {},
          "execution_count": 24
        }
      ],
      "source": [
        "# Peak Sales - Date Wise\n",
        "\n",
        "df.groupby(df['Date'].dt.to_period('D'))['Amount'].sum().nlargest(5)"
      ]
    },
    {
      "cell_type": "code",
      "execution_count": null,
      "metadata": {
        "colab": {
          "base_uri": "https://localhost:8080/"
        },
        "id": "zeYtf8KIEi-9",
        "outputId": "4a980226-048f-4187-d6e0-908f5c892001"
      },
      "outputs": [
        {
          "output_type": "execute_result",
          "data": {
            "text/plain": [
              "Date\n",
              "2022-05-02/2022-05-08    6580920.00\n",
              "2022-04-18/2022-04-24    6482031.00\n",
              "2022-04-11/2022-04-17    6240709.05\n",
              "Freq: W-SUN, Name: Amount, dtype: float64"
            ],
            "text/html": [
              "<div>\n",
              "<style scoped>\n",
              "    .dataframe tbody tr th:only-of-type {\n",
              "        vertical-align: middle;\n",
              "    }\n",
              "\n",
              "    .dataframe tbody tr th {\n",
              "        vertical-align: top;\n",
              "    }\n",
              "\n",
              "    .dataframe thead th {\n",
              "        text-align: right;\n",
              "    }\n",
              "</style>\n",
              "<table border=\"1\" class=\"dataframe\">\n",
              "  <thead>\n",
              "    <tr style=\"text-align: right;\">\n",
              "      <th></th>\n",
              "      <th>Amount</th>\n",
              "    </tr>\n",
              "    <tr>\n",
              "      <th>Date</th>\n",
              "      <th></th>\n",
              "    </tr>\n",
              "  </thead>\n",
              "  <tbody>\n",
              "    <tr>\n",
              "      <th>2022-05-02/2022-05-08</th>\n",
              "      <td>6580920.00</td>\n",
              "    </tr>\n",
              "    <tr>\n",
              "      <th>2022-04-18/2022-04-24</th>\n",
              "      <td>6482031.00</td>\n",
              "    </tr>\n",
              "    <tr>\n",
              "      <th>2022-04-11/2022-04-17</th>\n",
              "      <td>6240709.05</td>\n",
              "    </tr>\n",
              "  </tbody>\n",
              "</table>\n",
              "</div><br><label><b>dtype:</b> float64</label>"
            ]
          },
          "metadata": {},
          "execution_count": 25
        }
      ],
      "source": [
        "# Peak Sales - Weekly Wise\n",
        "\n",
        "df.groupby(df['Date'].dt.to_period('W'))['Amount'].sum().nlargest(3)"
      ]
    },
    {
      "cell_type": "code",
      "execution_count": null,
      "metadata": {
        "colab": {
          "base_uri": "https://localhost:8080/"
        },
        "id": "NQs4yiT6Enlx",
        "outputId": "704b74af-5dee-4e10-c6aa-e854ec783544"
      },
      "outputs": [
        {
          "output_type": "execute_result",
          "data": {
            "text/plain": [
              "Date\n",
              "2022-04    26272649.62\n",
              "2022-05    23975445.00\n",
              "Freq: M, Name: Amount, dtype: float64"
            ],
            "text/html": [
              "<div>\n",
              "<style scoped>\n",
              "    .dataframe tbody tr th:only-of-type {\n",
              "        vertical-align: middle;\n",
              "    }\n",
              "\n",
              "    .dataframe tbody tr th {\n",
              "        vertical-align: top;\n",
              "    }\n",
              "\n",
              "    .dataframe thead th {\n",
              "        text-align: right;\n",
              "    }\n",
              "</style>\n",
              "<table border=\"1\" class=\"dataframe\">\n",
              "  <thead>\n",
              "    <tr style=\"text-align: right;\">\n",
              "      <th></th>\n",
              "      <th>Amount</th>\n",
              "    </tr>\n",
              "    <tr>\n",
              "      <th>Date</th>\n",
              "      <th></th>\n",
              "    </tr>\n",
              "  </thead>\n",
              "  <tbody>\n",
              "    <tr>\n",
              "      <th>2022-04</th>\n",
              "      <td>26272649.62</td>\n",
              "    </tr>\n",
              "    <tr>\n",
              "      <th>2022-05</th>\n",
              "      <td>23975445.00</td>\n",
              "    </tr>\n",
              "  </tbody>\n",
              "</table>\n",
              "</div><br><label><b>dtype:</b> float64</label>"
            ]
          },
          "metadata": {},
          "execution_count": 26
        }
      ],
      "source": [
        "# Peak Sales - Monthly Wise\n",
        "\n",
        "df.groupby(df['Date'].dt.to_period('M'))['Amount'].sum().nlargest(2)"
      ]
    },
    {
      "cell_type": "markdown",
      "metadata": {
        "id": "y6H1Goz2ux_F"
      },
      "source": [
        "# Customer Insights"
      ]
    },
    {
      "cell_type": "code",
      "execution_count": null,
      "metadata": {
        "colab": {
          "base_uri": "https://localhost:8080/"
        },
        "id": "xOakZAhTFshz",
        "outputId": "b71ba053-a4c3-4bfe-d520-2e53dce9870f"
      },
      "outputs": [
        {
          "output_type": "execute_result",
          "data": {
            "text/plain": [
              "ship-city\n",
              "BENGALURU    6349713.00\n",
              "HYDERABAD    4499883.57\n",
              "MUMBAI       3400494.00\n",
              "NEW DELHI    3331168.48\n",
              "CHENNAI      2823610.00\n",
              "PUNE         2153145.00\n",
              "KOLKATA      1305113.00\n",
              "GURUGRAM     1135033.00\n",
              "THANE         918782.00\n",
              "LUCKNOW       850481.00\n",
              "Name: Amount, dtype: float64"
            ],
            "text/html": [
              "<div>\n",
              "<style scoped>\n",
              "    .dataframe tbody tr th:only-of-type {\n",
              "        vertical-align: middle;\n",
              "    }\n",
              "\n",
              "    .dataframe tbody tr th {\n",
              "        vertical-align: top;\n",
              "    }\n",
              "\n",
              "    .dataframe thead th {\n",
              "        text-align: right;\n",
              "    }\n",
              "</style>\n",
              "<table border=\"1\" class=\"dataframe\">\n",
              "  <thead>\n",
              "    <tr style=\"text-align: right;\">\n",
              "      <th></th>\n",
              "      <th>Amount</th>\n",
              "    </tr>\n",
              "    <tr>\n",
              "      <th>ship-city</th>\n",
              "      <th></th>\n",
              "    </tr>\n",
              "  </thead>\n",
              "  <tbody>\n",
              "    <tr>\n",
              "      <th>BENGALURU</th>\n",
              "      <td>6349713.00</td>\n",
              "    </tr>\n",
              "    <tr>\n",
              "      <th>HYDERABAD</th>\n",
              "      <td>4499883.57</td>\n",
              "    </tr>\n",
              "    <tr>\n",
              "      <th>MUMBAI</th>\n",
              "      <td>3400494.00</td>\n",
              "    </tr>\n",
              "    <tr>\n",
              "      <th>NEW DELHI</th>\n",
              "      <td>3331168.48</td>\n",
              "    </tr>\n",
              "    <tr>\n",
              "      <th>CHENNAI</th>\n",
              "      <td>2823610.00</td>\n",
              "    </tr>\n",
              "    <tr>\n",
              "      <th>PUNE</th>\n",
              "      <td>2153145.00</td>\n",
              "    </tr>\n",
              "    <tr>\n",
              "      <th>KOLKATA</th>\n",
              "      <td>1305113.00</td>\n",
              "    </tr>\n",
              "    <tr>\n",
              "      <th>GURUGRAM</th>\n",
              "      <td>1135033.00</td>\n",
              "    </tr>\n",
              "    <tr>\n",
              "      <th>THANE</th>\n",
              "      <td>918782.00</td>\n",
              "    </tr>\n",
              "    <tr>\n",
              "      <th>LUCKNOW</th>\n",
              "      <td>850481.00</td>\n",
              "    </tr>\n",
              "  </tbody>\n",
              "</table>\n",
              "</div><br><label><b>dtype:</b> float64</label>"
            ]
          },
          "metadata": {},
          "execution_count": 27
        }
      ],
      "source": [
        "# Top Performing Location city-wise\n",
        "\n",
        "df.groupby(['ship-city'])['Amount'].sum().sort_values(ascending=False).head(10)"
      ]
    },
    {
      "cell_type": "code",
      "source": [
        "# visualization for top 10 city by Sales\n",
        "\n",
        "# sum the 'Amount' for each city\n",
        "city_sales = df.groupby('ship-city')['Amount'].sum().reset_index()\n",
        "\n",
        "# Sort the cities by total sales (Amount) in descending order\n",
        "city_sales_sorted = city_sales.sort_values(by='Amount', ascending=False)\n",
        "\n",
        "# Select the top 10 cities\n",
        "top_10_cities = city_sales_sorted.head(10)\n",
        "\n",
        "# Plot the data using Seaborn (bar chart for top 10 cities)\n",
        "plt.figure(figsize=(10, 6))\n",
        "sns.barplot(data=top_10_cities, x='Amount', y='ship-city', palette='viridis',width=0.5)\n",
        "\n",
        "# Adding labels and title\n",
        "plt.title('Top 10 Cities by Sales Amount')\n",
        "plt.xlabel('Total Sales Amount')\n",
        "plt.ylabel('City')\n",
        "plt.tight_layout()\n",
        "\n",
        "# Show the plot\n",
        "plt.show()"
      ],
      "metadata": {
        "colab": {
          "base_uri": "https://localhost:8080/"
        },
        "id": "Hh8Vl0o9t39J",
        "outputId": "33055cc1-2c53-432a-9e32-7003b755d3c9"
      },
      "execution_count": null,
      "outputs": [
        {
          "output_type": "stream",
          "name": "stderr",
          "text": [
            "<ipython-input-28-f07d242f100c>:14: FutureWarning: \n",
            "\n",
            "Passing `palette` without assigning `hue` is deprecated and will be removed in v0.14.0. Assign the `y` variable to `hue` and set `legend=False` for the same effect.\n",
            "\n",
            "  sns.barplot(data=top_10_cities, x='Amount', y='ship-city', palette='viridis',width=0.5)\n"
          ]
        },
        {
          "output_type": "display_data",
          "data": {
            "text/plain": [
              "<Figure size 1000x600 with 1 Axes>"
            ],
            "image/png": "[encoded data removed]"
          },
          "metadata": {}
        }
      ]
    },
    {
      "cell_type": "code",
      "execution_count": null,
      "metadata": {
        "colab": {
          "base_uri": "https://localhost:8080/"
        },
        "id": "8dIwtnYAvnJF",
        "outputId": "3c02e0a1-7878-4a24-c4c0-4a895fa8949d"
      },
      "outputs": [
        {
          "output_type": "execute_result",
          "data": {
            "text/plain": [
              "ship-state\n",
              "MAHARASHTRA       12233176.00\n",
              "KARNATAKA          9648329.00\n",
              "TELANGANA          6293653.57\n",
              "UTTAR PRADESH      6184515.00\n",
              "TAMIL NADU         5958817.00\n",
              "DELHI              3907340.48\n",
              "KERALA             3378602.00\n",
              "WEST BENGAL        3208055.00\n",
              "ANDHRA PRADESH     2886567.00\n",
              "HARYANA            2654992.00\n",
              "Name: Amount, dtype: float64"
            ],
            "text/html": [
              "<div>\n",
              "<style scoped>\n",
              "    .dataframe tbody tr th:only-of-type {\n",
              "        vertical-align: middle;\n",
              "    }\n",
              "\n",
              "    .dataframe tbody tr th {\n",
              "        vertical-align: top;\n",
              "    }\n",
              "\n",
              "    .dataframe thead th {\n",
              "        text-align: right;\n",
              "    }\n",
              "</style>\n",
              "<table border=\"1\" class=\"dataframe\">\n",
              "  <thead>\n",
              "    <tr style=\"text-align: right;\">\n",
              "      <th></th>\n",
              "      <th>Amount</th>\n",
              "    </tr>\n",
              "    <tr>\n",
              "      <th>ship-state</th>\n",
              "      <th></th>\n",
              "    </tr>\n",
              "  </thead>\n",
              "  <tbody>\n",
              "    <tr>\n",
              "      <th>MAHARASHTRA</th>\n",
              "      <td>12233176.00</td>\n",
              "    </tr>\n",
              "    <tr>\n",
              "      <th>KARNATAKA</th>\n",
              "      <td>9648329.00</td>\n",
              "    </tr>\n",
              "    <tr>\n",
              "      <th>TELANGANA</th>\n",
              "      <td>6293653.57</td>\n",
              "    </tr>\n",
              "    <tr>\n",
              "      <th>UTTAR PRADESH</th>\n",
              "      <td>6184515.00</td>\n",
              "    </tr>\n",
              "    <tr>\n",
              "      <th>TAMIL NADU</th>\n",
              "      <td>5958817.00</td>\n",
              "    </tr>\n",
              "    <tr>\n",
              "      <th>DELHI</th>\n",
              "      <td>3907340.48</td>\n",
              "    </tr>\n",
              "    <tr>\n",
              "      <th>KERALA</th>\n",
              "      <td>3378602.00</td>\n",
              "    </tr>\n",
              "    <tr>\n",
              "      <th>WEST BENGAL</th>\n",
              "      <td>3208055.00</td>\n",
              "    </tr>\n",
              "    <tr>\n",
              "      <th>ANDHRA PRADESH</th>\n",
              "      <td>2886567.00</td>\n",
              "    </tr>\n",
              "    <tr>\n",
              "      <th>HARYANA</th>\n",
              "      <td>2654992.00</td>\n",
              "    </tr>\n",
              "  </tbody>\n",
              "</table>\n",
              "</div><br><label><b>dtype:</b> float64</label>"
            ]
          },
          "metadata": {},
          "execution_count": 29
        }
      ],
      "source": [
        "# Top Performing Location state-wise\n",
        "\n",
        "df.groupby(['ship-state'])['Amount'].sum().sort_values(ascending=False).head(10)"
      ]
    },
    {
      "cell_type": "code",
      "source": [
        "# visualization for top 10 states by Sales\n",
        "\n",
        "# sum the 'Amount' for each state\n",
        "state_sales = df.groupby('ship-state')['Amount'].sum().reset_index()\n",
        "\n",
        "# Sort the states by total sales (Amount) in descending order\n",
        "state_sales_sorted = state_sales.sort_values(by='Amount', ascending=False)\n",
        "\n",
        "# Select the top 10 states\n",
        "top_10_states = state_sales_sorted.head(10)\n",
        "\n",
        "# Plot the data using Seaborn (bar chart for top 10 states)\n",
        "plt.figure(figsize=(10, 5))\n",
        "sns.barplot(data=top_10_states, x='Amount', y='ship-state', palette='viridis',width=0.5)\n",
        "\n",
        "# Adding labels and title\n",
        "plt.title('Top 10 States by Sales Amount')\n",
        "plt.xlabel('Total Sales Amount')\n",
        "plt.ylabel('State')\n",
        "plt.tight_layout()\n",
        "\n",
        "# Show the plot\n",
        "plt.show()"
      ],
      "metadata": {
        "colab": {
          "base_uri": "https://localhost:8080/"
        },
        "id": "be8-c_rfu15Y",
        "outputId": "01fe4dab-19b8-4007-b835-a2679e73711e"
      },
      "execution_count": null,
      "outputs": [
        {
          "output_type": "stream",
          "name": "stderr",
          "text": [
            "<ipython-input-30-aa2775a0eff5>:14: FutureWarning: \n",
            "\n",
            "Passing `palette` without assigning `hue` is deprecated and will be removed in v0.14.0. Assign the `y` variable to `hue` and set `legend=False` for the same effect.\n",
            "\n",
            "  sns.barplot(data=top_10_states, x='Amount', y='ship-state', palette='viridis',width=0.5)\n"
          ]
        },
        {
          "output_type": "display_data",
          "data": {
            "text/plain": [
              "<Figure size 1000x500 with 1 Axes>"
            ],
            "image/png": "[encoded data removed]"
          },
          "metadata": {}
        }
      ]
    },
    {
      "cell_type": "markdown",
      "metadata": {
        "id": "-q5a8vi-wAu6"
      },
      "source": [
        "Trend in Order Cancellation"
      ]
    },
    {
      "cell_type": "code",
      "source": [
        "df['Status'].value_counts()"
      ],
      "metadata": {
        "colab": {
          "base_uri": "https://localhost:8080/"
        },
        "id": "5ClKxIbRvOk-",
        "outputId": "10499d77-ac81-4d3a-8f10-02cddcde7d63"
      },
      "execution_count": null,
      "outputs": [
        {
          "output_type": "execute_result",
          "data": {
            "text/plain": [
              "Status\n",
              "Shipped                          77748\n",
              "Shipped - Delivered to Buyer     28764\n",
              "Cancelled                        18331\n",
              "Shipped - Returned to Seller      1950\n",
              "Shipped - Picked Up                973\n",
              "Pending                            658\n",
              "Pending - Waiting for Pick Up      281\n",
              "Shipped - Returning to Seller      145\n",
              "Shipped - Out for Delivery          35\n",
              "Shipped - Rejected by Buyer         11\n",
              "Shipping                             8\n",
              "Shipped - Lost in Transit            5\n",
              "Shipped - Damaged                    1\n",
              "Name: count, dtype: int64"
            ],
            "text/html": [
              "<div>\n",
              "<style scoped>\n",
              "    .dataframe tbody tr th:only-of-type {\n",
              "        vertical-align: middle;\n",
              "    }\n",
              "\n",
              "    .dataframe tbody tr th {\n",
              "        vertical-align: top;\n",
              "    }\n",
              "\n",
              "    .dataframe thead th {\n",
              "        text-align: right;\n",
              "    }\n",
              "</style>\n",
              "<table border=\"1\" class=\"dataframe\">\n",
              "  <thead>\n",
              "    <tr style=\"text-align: right;\">\n",
              "      <th></th>\n",
              "      <th>count</th>\n",
              "    </tr>\n",
              "    <tr>\n",
              "      <th>Status</th>\n",
              "      <th></th>\n",
              "    </tr>\n",
              "  </thead>\n",
              "  <tbody>\n",
              "    <tr>\n",
              "      <th>Shipped</th>\n",
              "      <td>77748</td>\n",
              "    </tr>\n",
              "    <tr>\n",
              "      <th>Shipped - Delivered to Buyer</th>\n",
              "      <td>28764</td>\n",
              "    </tr>\n",
              "    <tr>\n",
              "      <th>Cancelled</th>\n",
              "      <td>18331</td>\n",
              "    </tr>\n",
              "    <tr>\n",
              "      <th>Shipped - Returned to Seller</th>\n",
              "      <td>1950</td>\n",
              "    </tr>\n",
              "    <tr>\n",
              "      <th>Shipped - Picked Up</th>\n",
              "      <td>973</td>\n",
              "    </tr>\n",
              "    <tr>\n",
              "      <th>Pending</th>\n",
              "      <td>658</td>\n",
              "    </tr>\n",
              "    <tr>\n",
              "      <th>Pending - Waiting for Pick Up</th>\n",
              "      <td>281</td>\n",
              "    </tr>\n",
              "    <tr>\n",
              "      <th>Shipped - Returning to Seller</th>\n",
              "      <td>145</td>\n",
              "    </tr>\n",
              "    <tr>\n",
              "      <th>Shipped - Out for Delivery</th>\n",
              "      <td>35</td>\n",
              "    </tr>\n",
              "    <tr>\n",
              "      <th>Shipped - Rejected by Buyer</th>\n",
              "      <td>11</td>\n",
              "    </tr>\n",
              "    <tr>\n",
              "      <th>Shipping</th>\n",
              "      <td>8</td>\n",
              "    </tr>\n",
              "    <tr>\n",
              "      <th>Shipped - Lost in Transit</th>\n",
              "      <td>5</td>\n",
              "    </tr>\n",
              "    <tr>\n",
              "      <th>Shipped - Damaged</th>\n",
              "      <td>1</td>\n",
              "    </tr>\n",
              "  </tbody>\n",
              "</table>\n",
              "</div><br><label><b>dtype:</b> int64</label>"
            ]
          },
          "metadata": {},
          "execution_count": 31
        }
      ]
    },
    {
      "cell_type": "code",
      "execution_count": null,
      "metadata": {
        "colab": {
          "base_uri": "https://localhost:8080/"
        },
        "id": "Cy2Y316uF83c",
        "outputId": "d0beb4d1-77ea-4202-991c-762cb577f8d3"
      },
      "outputs": [
        {
          "output_type": "stream",
          "name": "stdout",
          "text": [
            "128910\n"
          ]
        }
      ],
      "source": [
        "# Total Orders\n",
        "\n",
        "Total_Orders = df['Status'].value_counts().sum()\n",
        "print(Total_Orders)"
      ]
    },
    {
      "cell_type": "code",
      "source": [
        "df['Status'].value_counts()"
      ],
      "metadata": {
        "colab": {
          "base_uri": "https://localhost:8080/"
        },
        "id": "dkSCbcfjRdXq",
        "outputId": "55396f72-f071-4627-dc5d-9cb284602c3c"
      },
      "execution_count": null,
      "outputs": [
        {
          "output_type": "execute_result",
          "data": {
            "text/plain": [
              "Status\n",
              "Shipped                          77748\n",
              "Shipped - Delivered to Buyer     28764\n",
              "Cancelled                        18331\n",
              "Shipped - Returned to Seller      1950\n",
              "Shipped - Picked Up                973\n",
              "Pending                            658\n",
              "Pending - Waiting for Pick Up      281\n",
              "Shipped - Returning to Seller      145\n",
              "Shipped - Out for Delivery          35\n",
              "Shipped - Rejected by Buyer         11\n",
              "Shipping                             8\n",
              "Shipped - Lost in Transit            5\n",
              "Shipped - Damaged                    1\n",
              "Name: count, dtype: int64"
            ],
            "text/html": [
              "<div>\n",
              "<style scoped>\n",
              "    .dataframe tbody tr th:only-of-type {\n",
              "        vertical-align: middle;\n",
              "    }\n",
              "\n",
              "    .dataframe tbody tr th {\n",
              "        vertical-align: top;\n",
              "    }\n",
              "\n",
              "    .dataframe thead th {\n",
              "        text-align: right;\n",
              "    }\n",
              "</style>\n",
              "<table border=\"1\" class=\"dataframe\">\n",
              "  <thead>\n",
              "    <tr style=\"text-align: right;\">\n",
              "      <th></th>\n",
              "      <th>count</th>\n",
              "    </tr>\n",
              "    <tr>\n",
              "      <th>Status</th>\n",
              "      <th></th>\n",
              "    </tr>\n",
              "  </thead>\n",
              "  <tbody>\n",
              "    <tr>\n",
              "      <th>Shipped</th>\n",
              "      <td>77748</td>\n",
              "    </tr>\n",
              "    <tr>\n",
              "      <th>Shipped - Delivered to Buyer</th>\n",
              "      <td>28764</td>\n",
              "    </tr>\n",
              "    <tr>\n",
              "      <th>Cancelled</th>\n",
              "      <td>18331</td>\n",
              "    </tr>\n",
              "    <tr>\n",
              "      <th>Shipped - Returned to Seller</th>\n",
              "      <td>1950</td>\n",
              "    </tr>\n",
              "    <tr>\n",
              "      <th>Shipped - Picked Up</th>\n",
              "      <td>973</td>\n",
              "    </tr>\n",
              "    <tr>\n",
              "      <th>Pending</th>\n",
              "      <td>658</td>\n",
              "    </tr>\n",
              "    <tr>\n",
              "      <th>Pending - Waiting for Pick Up</th>\n",
              "      <td>281</td>\n",
              "    </tr>\n",
              "    <tr>\n",
              "      <th>Shipped - Returning to Seller</th>\n",
              "      <td>145</td>\n",
              "    </tr>\n",
              "    <tr>\n",
              "      <th>Shipped - Out for Delivery</th>\n",
              "      <td>35</td>\n",
              "    </tr>\n",
              "    <tr>\n",
              "      <th>Shipped - Rejected by Buyer</th>\n",
              "      <td>11</td>\n",
              "    </tr>\n",
              "    <tr>\n",
              "      <th>Shipping</th>\n",
              "      <td>8</td>\n",
              "    </tr>\n",
              "    <tr>\n",
              "      <th>Shipped - Lost in Transit</th>\n",
              "      <td>5</td>\n",
              "    </tr>\n",
              "    <tr>\n",
              "      <th>Shipped - Damaged</th>\n",
              "      <td>1</td>\n",
              "    </tr>\n",
              "  </tbody>\n",
              "</table>\n",
              "</div><br><label><b>dtype:</b> int64</label>"
            ]
          },
          "metadata": {},
          "execution_count": 33
        }
      ]
    },
    {
      "cell_type": "code",
      "source": [
        "# List of statuses that represent cancelled orders\n",
        "cancellation_statuses = [\n",
        "    'Cancelled',\n",
        "    'Shipped - Returned to Seller',\n",
        "    'Shipped - Returning to Seller',\n",
        "    'Shipped - Rejected by Buyer'\n",
        "]\n",
        "\n",
        "# Filter the rows where the order is cancelled\n",
        "cancellations = df[df['Status'].isin(cancellation_statuses)]\n"
      ],
      "metadata": {
        "id": "77PzoGRJSsoK"
      },
      "execution_count": null,
      "outputs": []
    },
    {
      "cell_type": "code",
      "execution_count": null,
      "metadata": {
        "colab": {
          "base_uri": "https://localhost:8080/"
        },
        "id": "GzxYjYlSGn2t",
        "outputId": "98e45bdf-c63d-43b8-ba47-9f1d426fcf2f"
      },
      "outputs": [
        {
          "output_type": "stream",
          "name": "stdout",
          "text": [
            "20437\n"
          ]
        }
      ],
      "source": [
        "# Get the total number of cancelled orders\n",
        "total_cancelled_orders = cancellations.shape[0]\n",
        "\n",
        "# Display the total cancelled orders\n",
        "print(total_cancelled_orders)\n"
      ]
    },
    {
      "cell_type": "code",
      "execution_count": null,
      "metadata": {
        "colab": {
          "base_uri": "https://localhost:8080/"
        },
        "id": "2r_1CfjGHC1z",
        "outputId": "584d5ac7-a9a6-4894-da55-66dfe5e14a59"
      },
      "outputs": [
        {
          "output_type": "stream",
          "name": "stdout",
          "text": [
            "15.85 %\n"
          ]
        }
      ],
      "source": [
        "# Cancelled Orders Rate\n",
        "\n",
        "Cancelled_Orders_Percentage = round((total_cancelled_orders / Total_Orders) * 100,2)\n",
        "print(Cancelled_Orders_Percentage, \"%\")"
      ]
    },
    {
      "cell_type": "code",
      "source": [
        "# Group by 'Date' to get cancellations over time (daily trend)\n",
        "cancellations_by_day = cancellations.groupby(cancellations['Date'].dt.date).size()\n",
        "\n",
        "# Plotting the trend in cancellations over time\n",
        "plt.figure(figsize=(10, 6))\n",
        "cancellations_by_day.plot(kind='line', color='skyblue', marker='o')\n",
        "\n",
        "# Adding labels and title\n",
        "plt.title('Trend in Order Cancellations Over Time')\n",
        "plt.xlabel('Date')\n",
        "plt.ylabel('Number of Cancellations')\n",
        "plt.xticks(rotation=45)\n",
        "plt.tight_layout()\n",
        "\n",
        "# Show the plot\n",
        "plt.show()\n"
      ],
      "metadata": {
        "colab": {
          "base_uri": "https://localhost:8080/"
        },
        "id": "RpaVeTGzw-zI",
        "outputId": "948f665d-8a53-40c3-8ca8-0d7839105464"
      },
      "execution_count": null,
      "outputs": [
        {
          "output_type": "display_data",
          "data": {
            "text/plain": [
              "<Figure size 1000x600 with 1 Axes>"
            ],
            "image/png": "[encoded data removed]"
          },
          "metadata": {}
        }
      ]
    },
    {
      "cell_type": "code",
      "source": [
        "#checking for outliers as shown in chart in end there is a spike so\n",
        "\n",
        "# Calculate the IQR to identify outliers\n",
        "Q1 = cancellations_by_day.quantile(0.25)\n",
        "Q3 = cancellations_by_day.quantile(0.75)\n",
        "IQR = Q3 - Q1\n",
        "\n",
        "# Define the lower and upper bounds for outlier detection\n",
        "lower_bound = Q1 - 1.5 * IQR\n",
        "upper_bound = Q3 + 1.5 * IQR\n",
        "\n",
        "# Identify outliers\n",
        "outliers = cancellations_by_day[(cancellations_by_day < lower_bound) | (cancellations_by_day > upper_bound)]\n",
        "\n",
        "# Display the outliers\n",
        "print(\"Outliers detected:\", outliers)\n"
      ],
      "metadata": {
        "colab": {
          "base_uri": "https://localhost:8080/"
        },
        "id": "N8Em5HgFuK67",
        "outputId": "eacd1f10-5201-4c8a-daca-8002f3acfff6"
      },
      "execution_count": null,
      "outputs": [
        {
          "output_type": "stream",
          "name": "stdout",
          "text": [
            "Outliers detected: Date\n",
            "2022-03-31    19\n",
            "2022-06-29    31\n",
            "dtype: int64\n"
          ]
        }
      ]
    },
    {
      "cell_type": "markdown",
      "metadata": {
        "id": "vfB5BVf8wZ66"
      },
      "source": [
        "B2B & B2C Comparision"
      ]
    },
    {
      "cell_type": "code",
      "execution_count": null,
      "metadata": {
        "colab": {
          "base_uri": "https://localhost:8080/"
        },
        "id": "CjSl1SY_JPIg",
        "outputId": "14c47ef8-c4ba-4259-8e21-cb81858b1211"
      },
      "outputs": [
        {
          "output_type": "execute_result",
          "data": {
            "text/plain": [
              "B2B\n",
              "False    128039\n",
              "True        871\n",
              "Name: count, dtype: int64"
            ],
            "text/html": [
              "<div>\n",
              "<style scoped>\n",
              "    .dataframe tbody tr th:only-of-type {\n",
              "        vertical-align: middle;\n",
              "    }\n",
              "\n",
              "    .dataframe tbody tr th {\n",
              "        vertical-align: top;\n",
              "    }\n",
              "\n",
              "    .dataframe thead th {\n",
              "        text-align: right;\n",
              "    }\n",
              "</style>\n",
              "<table border=\"1\" class=\"dataframe\">\n",
              "  <thead>\n",
              "    <tr style=\"text-align: right;\">\n",
              "      <th></th>\n",
              "      <th>count</th>\n",
              "    </tr>\n",
              "    <tr>\n",
              "      <th>B2B</th>\n",
              "      <th></th>\n",
              "    </tr>\n",
              "  </thead>\n",
              "  <tbody>\n",
              "    <tr>\n",
              "      <th>False</th>\n",
              "      <td>128039</td>\n",
              "    </tr>\n",
              "    <tr>\n",
              "      <th>True</th>\n",
              "      <td>871</td>\n",
              "    </tr>\n",
              "  </tbody>\n",
              "</table>\n",
              "</div><br><label><b>dtype:</b> int64</label>"
            ]
          },
          "metadata": {},
          "execution_count": 39
        }
      ],
      "source": [
        "# Order Count by b2b and b2c\n",
        "\n",
        "df['B2B'].value_counts()"
      ]
    },
    {
      "cell_type": "code",
      "source": [
        "# making different dataframes for comparision\n",
        "b2b_orders = df[df['B2B'] == True]\n",
        "b2c_orders = df[df['B2B'] == False]\n",
        "\n",
        "# Total Orders (B2B vs B2C)\n",
        "total_b2b_orders = b2b_orders.shape[0]\n",
        "total_b2c_orders = b2c_orders.shape[0]\n",
        "\n",
        "# Total Revenue (Amount) (B2B vs B2C)\n",
        "total_b2b_revenue = b2b_orders['Amount'].sum()\n",
        "total_b2c_revenue = b2c_orders['Amount'].sum()\n",
        "\n",
        "# Print the results\n",
        "print(f\"Total B2B Orders: {total_b2b_orders}\")\n",
        "print(f\"Total B2C Orders: {total_b2c_orders}\")\n",
        "print(f\"Total B2B Revenue: {total_b2b_revenue}\")\n",
        "print(f\"Total B2C Revenue: {total_b2c_revenue}\")"
      ],
      "metadata": {
        "colab": {
          "base_uri": "https://localhost:8080/"
        },
        "id": "eGloVaWx2YSq",
        "outputId": "a2d81601-fd51-4613-b235-ab85d537c356"
      },
      "execution_count": null,
      "outputs": [
        {
          "output_type": "stream",
          "name": "stdout",
          "text": [
            "Total B2B Orders: 871\n",
            "Total B2C Orders: 128039\n",
            "Total B2B Revenue: 559945.0\n",
            "Total B2C Revenue: 71195727.62\n"
          ]
        }
      ]
    },
    {
      "cell_type": "code",
      "source": [
        "#visualization in pie chart for comparision\n",
        "\n",
        "# Data for comparison\n",
        "categories = ['B2B', 'B2C']\n",
        "total_orders = [total_b2b_orders, total_b2c_orders]\n",
        "total_revenue = [total_b2b_revenue, total_b2c_revenue]\n",
        "\n",
        "# Plotting the Total Revenue comparison (Pie Chart)\n",
        "plt.figure(figsize=(6, 6))\n",
        "\n",
        "# Pie Chart for Total Revenue\n",
        "plt.subplot(2, 1, 1)\n",
        "plt.pie(total_revenue, labels=categories, autopct='%1.1f%%', startangle=90, colors=['blue', 'orange'])\n",
        "plt.title('Total Revenue: B2B vs B2C')\n",
        "\n",
        "# Pie Chart for Total Orders\n",
        "plt.subplot(2, 1, 2)\n",
        "plt.pie(total_orders, labels=categories, autopct='%1.1f%%', startangle=90, colors=['blue', 'orange'])\n",
        "plt.title('Total Orders: B2B vs B2C')\n",
        "\n",
        "# Adjust layout to prevent overlap\n",
        "plt.tight_layout()\n",
        "plt.show()\n"
      ],
      "metadata": {
        "colab": {
          "base_uri": "https://localhost:8080/"
        },
        "id": "WWNYNiVC2e7N",
        "outputId": "e7f04ce4-cdd0-421a-debc-600fec44d1c2"
      },
      "execution_count": null,
      "outputs": [
        {
          "output_type": "display_data",
          "data": {
            "text/plain": [
              "<Figure size 600x600 with 2 Axes>"
            ],
            "image/png": "[encoded data removed]"
          },
          "metadata": {}
        }
      ]
    },
    {
      "cell_type": "markdown",
      "metadata": {
        "id": "n653c0svxvxc"
      },
      "source": [
        "# Logistics & Fulfillment"
      ]
    },
    {
      "cell_type": "markdown",
      "metadata": {
        "id": "Ff8SIepdyHLm"
      },
      "source": [
        "*Average shipping time can not be calculated as we have only order date in columns"
      ]
    },
    {
      "cell_type": "code",
      "execution_count": null,
      "metadata": {
        "colab": {
          "base_uri": "https://localhost:8080/"
        },
        "id": "8hf1CpLzTomM",
        "outputId": "8e47d07e-bf4c-4a12-9abd-d56b171aa56c"
      },
      "outputs": [
        {
          "output_type": "execute_result",
          "data": {
            "text/plain": [
              "Fulfilment\n",
              "Amazon      89653\n",
              "Merchant    39257\n",
              "Name: count, dtype: int64"
            ],
            "text/html": [
              "<div>\n",
              "<style scoped>\n",
              "    .dataframe tbody tr th:only-of-type {\n",
              "        vertical-align: middle;\n",
              "    }\n",
              "\n",
              "    .dataframe tbody tr th {\n",
              "        vertical-align: top;\n",
              "    }\n",
              "\n",
              "    .dataframe thead th {\n",
              "        text-align: right;\n",
              "    }\n",
              "</style>\n",
              "<table border=\"1\" class=\"dataframe\">\n",
              "  <thead>\n",
              "    <tr style=\"text-align: right;\">\n",
              "      <th></th>\n",
              "      <th>count</th>\n",
              "    </tr>\n",
              "    <tr>\n",
              "      <th>Fulfilment</th>\n",
              "      <th></th>\n",
              "    </tr>\n",
              "  </thead>\n",
              "  <tbody>\n",
              "    <tr>\n",
              "      <th>Amazon</th>\n",
              "      <td>89653</td>\n",
              "    </tr>\n",
              "    <tr>\n",
              "      <th>Merchant</th>\n",
              "      <td>39257</td>\n",
              "    </tr>\n",
              "  </tbody>\n",
              "</table>\n",
              "</div><br><label><b>dtype:</b> int64</label>"
            ]
          },
          "metadata": {},
          "execution_count": 42
        }
      ],
      "source": [
        "# Orders fulfilled by amazon vs merchant\n",
        "\n",
        "df['Fulfilment'].value_counts()"
      ]
    },
    {
      "cell_type": "code",
      "execution_count": null,
      "metadata": {
        "colab": {
          "base_uri": "https://localhost:8080/"
        },
        "id": "fALlvIuSUSmf",
        "outputId": "1450cbc7-49c8-4a54-b525-e9dd5de02b1c"
      },
      "outputs": [
        {
          "output_type": "stream",
          "name": "stdout",
          "text": [
            "69.55 %\n"
          ]
        }
      ],
      "source": [
        "# percentage order fulfilled by Amazon\n",
        "\n",
        "Order_by_Amazon = round((df['Fulfilment'] == \"Amazon\").sum() / df['Fulfilment'].count() * 100,2)\n",
        "print(Order_by_Amazon, \"%\")"
      ]
    },
    {
      "cell_type": "code",
      "execution_count": null,
      "metadata": {
        "colab": {
          "base_uri": "https://localhost:8080/"
        },
        "id": "EJTDuK0IUprj",
        "outputId": "5f3b0c40-8946-4bb7-db18-308bfb8c4d52"
      },
      "outputs": [
        {
          "output_type": "stream",
          "name": "stdout",
          "text": [
            "30.45 %\n"
          ]
        }
      ],
      "source": [
        "# percentage order fulfilled by Merchant\n",
        "\n",
        "Order_by_Merchant = round((df['Fulfilment'] == \"Merchant\").sum() / df['Fulfilment'].count() * 100,2)\n",
        "print(Order_by_Merchant, \"%\")"
      ]
    },
    {
      "cell_type": "code",
      "source": [
        "# visualization in pie chart for better comparision\n",
        "\n",
        "# Values for pie chart\n",
        "labels = ['Amazon', 'Merchant']\n",
        "sizes = [Order_by_Amazon, Order_by_Merchant]\n",
        "colors = ['blue', 'orange']\n",
        "explode = (0, 0.1)  # Explode Merchant slice\n",
        "\n",
        "# Create the pie chart\n",
        "plt.figure(figsize=(4, 4))\n",
        "plt.pie(sizes, labels=labels, autopct='%1.1f%%', startangle=90, colors=colors, explode=explode)\n",
        "plt.title('Comparison of Orders Fulfilled by Amazon vs Merchant')\n",
        "plt.show()"
      ],
      "metadata": {
        "colab": {
          "base_uri": "https://localhost:8080/"
        },
        "id": "g61o6yBx-6PX",
        "outputId": "f4174c0a-2870-4da0-e47a-ecb8b09f1786"
      },
      "execution_count": null,
      "outputs": [
        {
          "output_type": "display_data",
          "data": {
            "text/plain": [
              "<Figure size 400x400 with 1 Axes>"
            ],
            "image/png": "[encoded data removed]"
          },
          "metadata": {}
        }
      ]
    },
    {
      "cell_type": "markdown",
      "metadata": {
        "id": "i-jLy-7Ly3C7"
      },
      "source": [
        "# Product Management"
      ]
    },
    {
      "cell_type": "code",
      "execution_count": null,
      "metadata": {
        "colab": {
          "base_uri": "https://localhost:8080/"
        },
        "id": "IdZi5fZUU6gC",
        "outputId": "62585f3a-5b01-4979-dcf5-0e46facb3fd5"
      },
      "outputs": [
        {
          "output_type": "stream",
          "name": "stderr",
          "text": [
            "<ipython-input-46-769e3077a765>:3: FutureWarning: The default of observed=False is deprecated and will be changed to True in a future version of pandas. Pass observed=False to retain current behavior or observed=True to adopt the future default and silence this warning.\n",
            "  df.groupby('Category')['Order ID'].count().sort_values(ascending=False)\n"
          ]
        },
        {
          "output_type": "execute_result",
          "data": {
            "text/plain": [
              "Category\n",
              "Set              50260\n",
              "kurta            49846\n",
              "Western Dress    15494\n",
              "Top              10619\n",
              "Ethnic Dress      1158\n",
              "Blouse             926\n",
              "Bottom             440\n",
              "Saree              164\n",
              "Dupatta              3\n",
              "Name: Order ID, dtype: int64"
            ],
            "text/html": [
              "<div>\n",
              "<style scoped>\n",
              "    .dataframe tbody tr th:only-of-type {\n",
              "        vertical-align: middle;\n",
              "    }\n",
              "\n",
              "    .dataframe tbody tr th {\n",
              "        vertical-align: top;\n",
              "    }\n",
              "\n",
              "    .dataframe thead th {\n",
              "        text-align: right;\n",
              "    }\n",
              "</style>\n",
              "<table border=\"1\" class=\"dataframe\">\n",
              "  <thead>\n",
              "    <tr style=\"text-align: right;\">\n",
              "      <th></th>\n",
              "      <th>Order ID</th>\n",
              "    </tr>\n",
              "    <tr>\n",
              "      <th>Category</th>\n",
              "      <th></th>\n",
              "    </tr>\n",
              "  </thead>\n",
              "  <tbody>\n",
              "    <tr>\n",
              "      <th>Set</th>\n",
              "      <td>50260</td>\n",
              "    </tr>\n",
              "    <tr>\n",
              "      <th>kurta</th>\n",
              "      <td>49846</td>\n",
              "    </tr>\n",
              "    <tr>\n",
              "      <th>Western Dress</th>\n",
              "      <td>15494</td>\n",
              "    </tr>\n",
              "    <tr>\n",
              "      <th>Top</th>\n",
              "      <td>10619</td>\n",
              "    </tr>\n",
              "    <tr>\n",
              "      <th>Ethnic Dress</th>\n",
              "      <td>1158</td>\n",
              "    </tr>\n",
              "    <tr>\n",
              "      <th>Blouse</th>\n",
              "      <td>926</td>\n",
              "    </tr>\n",
              "    <tr>\n",
              "      <th>Bottom</th>\n",
              "      <td>440</td>\n",
              "    </tr>\n",
              "    <tr>\n",
              "      <th>Saree</th>\n",
              "      <td>164</td>\n",
              "    </tr>\n",
              "    <tr>\n",
              "      <th>Dupatta</th>\n",
              "      <td>3</td>\n",
              "    </tr>\n",
              "  </tbody>\n",
              "</table>\n",
              "</div><br><label><b>dtype:</b> int64</label>"
            ]
          },
          "metadata": {},
          "execution_count": 46
        }
      ],
      "source": [
        "# Popular Product Categories\n",
        "\n",
        "df.groupby('Category')['Order ID'].count().sort_values(ascending=False)"
      ]
    },
    {
      "cell_type": "code",
      "source": [
        "# visualization of popular product category in bar chart\n",
        "\n",
        "# count the number of orders in each category\n",
        "category_order_counts = df.groupby('Category')['Order ID'].count().reset_index(name='Order Count')\n",
        "\n",
        "# Visualize the popular product categories (order count) with Seaborn barplot\n",
        "plt.figure(figsize=(10, 6))\n",
        "sns.barplot(x='Category', y='Order Count', data=category_order_counts, palette='Blues_d', width = 0.5)\n",
        "plt.title('Popular Product Categories by Order Count')\n",
        "plt.xlabel('Product Category')\n",
        "plt.ylabel('Number of Orders')\n",
        "plt.xticks(rotation=90)  # Rotate category labels for better visibility\n",
        "plt.tight_layout()\n",
        "plt.show()"
      ],
      "metadata": {
        "colab": {
          "base_uri": "https://localhost:8080/"
        },
        "id": "kxcc2eN0bBaJ",
        "outputId": "4f68141f-10c5-41cc-f230-c10082ecc70d"
      },
      "execution_count": null,
      "outputs": [
        {
          "output_type": "stream",
          "name": "stderr",
          "text": [
            "<ipython-input-47-0a8cd1e3d952>:4: FutureWarning: The default of observed=False is deprecated and will be changed to True in a future version of pandas. Pass observed=False to retain current behavior or observed=True to adopt the future default and silence this warning.\n",
            "  category_order_counts = df.groupby('Category')['Order ID'].count().reset_index(name='Order Count')\n",
            "<ipython-input-47-0a8cd1e3d952>:8: FutureWarning: \n",
            "\n",
            "Passing `palette` without assigning `hue` is deprecated and will be removed in v0.14.0. Assign the `x` variable to `hue` and set `legend=False` for the same effect.\n",
            "\n",
            "  sns.barplot(x='Category', y='Order Count', data=category_order_counts, palette='Blues_d', width = 0.5)\n"
          ]
        },
        {
          "output_type": "display_data",
          "data": {
            "text/plain": [
              "<Figure size 1000x600 with 1 Axes>"
            ],
            "image/png": "[encoded data removed]"
          },
          "metadata": {}
        }
      ]
    },
    {
      "cell_type": "code",
      "execution_count": null,
      "metadata": {
        "colab": {
          "base_uri": "https://localhost:8080/"
        },
        "id": "8mlk-j69Vhmj",
        "outputId": "cd6e4311-e9e6-4c98-cd20-6d4910b14da3"
      },
      "outputs": [
        {
          "output_type": "stream",
          "name": "stderr",
          "text": [
            "<ipython-input-48-3ce9569be081>:3: FutureWarning: The default of observed=False is deprecated and will be changed to True in a future version of pandas. Pass observed=False to retain current behavior or observed=True to adopt the future default and silence this warning.\n",
            "  df.groupby('Category')['Qty'].mean().sort_values(ascending=False)\n"
          ]
        },
        {
          "output_type": "execute_result",
          "data": {
            "text/plain": [
              "Category\n",
              "Dupatta          1.000000\n",
              "Blouse           0.933045\n",
              "Top              0.932291\n",
              "Saree            0.926829\n",
              "Ethnic Dress     0.908463\n",
              "Bottom           0.904545\n",
              "kurta            0.903463\n",
              "Set              0.900816\n",
              "Western Dress    0.899832\n",
              "Name: Qty, dtype: float64"
            ],
            "text/html": [
              "<div>\n",
              "<style scoped>\n",
              "    .dataframe tbody tr th:only-of-type {\n",
              "        vertical-align: middle;\n",
              "    }\n",
              "\n",
              "    .dataframe tbody tr th {\n",
              "        vertical-align: top;\n",
              "    }\n",
              "\n",
              "    .dataframe thead th {\n",
              "        text-align: right;\n",
              "    }\n",
              "</style>\n",
              "<table border=\"1\" class=\"dataframe\">\n",
              "  <thead>\n",
              "    <tr style=\"text-align: right;\">\n",
              "      <th></th>\n",
              "      <th>Qty</th>\n",
              "    </tr>\n",
              "    <tr>\n",
              "      <th>Category</th>\n",
              "      <th></th>\n",
              "    </tr>\n",
              "  </thead>\n",
              "  <tbody>\n",
              "    <tr>\n",
              "      <th>Dupatta</th>\n",
              "      <td>1.000000</td>\n",
              "    </tr>\n",
              "    <tr>\n",
              "      <th>Blouse</th>\n",
              "      <td>0.933045</td>\n",
              "    </tr>\n",
              "    <tr>\n",
              "      <th>Top</th>\n",
              "      <td>0.932291</td>\n",
              "    </tr>\n",
              "    <tr>\n",
              "      <th>Saree</th>\n",
              "      <td>0.926829</td>\n",
              "    </tr>\n",
              "    <tr>\n",
              "      <th>Ethnic Dress</th>\n",
              "      <td>0.908463</td>\n",
              "    </tr>\n",
              "    <tr>\n",
              "      <th>Bottom</th>\n",
              "      <td>0.904545</td>\n",
              "    </tr>\n",
              "    <tr>\n",
              "      <th>kurta</th>\n",
              "      <td>0.903463</td>\n",
              "    </tr>\n",
              "    <tr>\n",
              "      <th>Set</th>\n",
              "      <td>0.900816</td>\n",
              "    </tr>\n",
              "    <tr>\n",
              "      <th>Western Dress</th>\n",
              "      <td>0.899832</td>\n",
              "    </tr>\n",
              "  </tbody>\n",
              "</table>\n",
              "</div><br><label><b>dtype:</b> float64</label>"
            ]
          },
          "metadata": {},
          "execution_count": 48
        }
      ],
      "source": [
        "# Average Quantity Ordered\n",
        "\n",
        "df.groupby('Category')['Qty'].mean().sort_values(ascending=False)"
      ]
    },
    {
      "cell_type": "code",
      "source": [
        "# visualization of average quantity ordered for each category\n",
        "\n",
        "# Calculate the average quantity ordered for each category\n",
        "category_avg_quantity = df.groupby('Category')['Qty'].mean().reset_index(name='Avg Quantity Ordered')\n",
        "\n",
        "# Visualize the average quantity ordered per category with Seaborn barplot\n",
        "plt.figure(figsize=(10, 6))\n",
        "sns.barplot(x='Category', y='Avg Quantity Ordered', data=category_avg_quantity, palette='Greens_d', width = 0.5)\n",
        "plt.title('Average Quantity Ordered by Product Category')\n",
        "plt.xlabel('Product Category')\n",
        "plt.ylabel('Average Quantity Ordered')\n",
        "plt.xticks(rotation=90)  # Rotate category labels for better visibility\n",
        "plt.tight_layout()\n",
        "plt.show()"
      ],
      "metadata": {
        "colab": {
          "base_uri": "https://localhost:8080/"
        },
        "id": "2Zw-DD3ec0Ma",
        "outputId": "b2cf2cf7-142c-4d7b-be02-972f3bd2628a"
      },
      "execution_count": null,
      "outputs": [
        {
          "output_type": "stream",
          "name": "stderr",
          "text": [
            "<ipython-input-49-d7206d78faea>:4: FutureWarning: The default of observed=False is deprecated and will be changed to True in a future version of pandas. Pass observed=False to retain current behavior or observed=True to adopt the future default and silence this warning.\n",
            "  category_avg_quantity = df.groupby('Category')['Qty'].mean().reset_index(name='Avg Quantity Ordered')\n",
            "<ipython-input-49-d7206d78faea>:8: FutureWarning: \n",
            "\n",
            "Passing `palette` without assigning `hue` is deprecated and will be removed in v0.14.0. Assign the `x` variable to `hue` and set `legend=False` for the same effect.\n",
            "\n",
            "  sns.barplot(x='Category', y='Avg Quantity Ordered', data=category_avg_quantity, palette='Greens_d', width = 0.5)\n"
          ]
        },
        {
          "output_type": "display_data",
          "data": {
            "text/plain": [
              "<Figure size 1000x600 with 1 Axes>"
            ],
            "image/png": "[encoded data removed]"
          },
          "metadata": {}
        }
      ]
    },
    {
      "cell_type": "markdown",
      "metadata": {
        "id": "KFxQXluU1K1l"
      },
      "source": [
        "# Customer Satisfaction & Return"
      ]
    },
    {
      "cell_type": "code",
      "execution_count": null,
      "metadata": {
        "colab": {
          "base_uri": "https://localhost:8080/"
        },
        "id": "5REB3VDkaoY4",
        "outputId": "86be5afc-aef3-4063-cfd4-0d9a717f9d54"
      },
      "outputs": [
        {
          "output_type": "execute_result",
          "data": {
            "text/plain": [
              "Status\n",
              "Shipped                          77748\n",
              "Shipped - Delivered to Buyer     28764\n",
              "Cancelled                        18331\n",
              "Shipped - Returned to Seller      1950\n",
              "Shipped - Picked Up                973\n",
              "Pending                            658\n",
              "Pending - Waiting for Pick Up      281\n",
              "Shipped - Returning to Seller      145\n",
              "Shipped - Out for Delivery          35\n",
              "Shipped - Rejected by Buyer         11\n",
              "Shipping                             8\n",
              "Shipped - Lost in Transit            5\n",
              "Shipped - Damaged                    1\n",
              "Name: count, dtype: int64"
            ],
            "text/html": [
              "<div>\n",
              "<style scoped>\n",
              "    .dataframe tbody tr th:only-of-type {\n",
              "        vertical-align: middle;\n",
              "    }\n",
              "\n",
              "    .dataframe tbody tr th {\n",
              "        vertical-align: top;\n",
              "    }\n",
              "\n",
              "    .dataframe thead th {\n",
              "        text-align: right;\n",
              "    }\n",
              "</style>\n",
              "<table border=\"1\" class=\"dataframe\">\n",
              "  <thead>\n",
              "    <tr style=\"text-align: right;\">\n",
              "      <th></th>\n",
              "      <th>count</th>\n",
              "    </tr>\n",
              "    <tr>\n",
              "      <th>Status</th>\n",
              "      <th></th>\n",
              "    </tr>\n",
              "  </thead>\n",
              "  <tbody>\n",
              "    <tr>\n",
              "      <th>Shipped</th>\n",
              "      <td>77748</td>\n",
              "    </tr>\n",
              "    <tr>\n",
              "      <th>Shipped - Delivered to Buyer</th>\n",
              "      <td>28764</td>\n",
              "    </tr>\n",
              "    <tr>\n",
              "      <th>Cancelled</th>\n",
              "      <td>18331</td>\n",
              "    </tr>\n",
              "    <tr>\n",
              "      <th>Shipped - Returned to Seller</th>\n",
              "      <td>1950</td>\n",
              "    </tr>\n",
              "    <tr>\n",
              "      <th>Shipped - Picked Up</th>\n",
              "      <td>973</td>\n",
              "    </tr>\n",
              "    <tr>\n",
              "      <th>Pending</th>\n",
              "      <td>658</td>\n",
              "    </tr>\n",
              "    <tr>\n",
              "      <th>Pending - Waiting for Pick Up</th>\n",
              "      <td>281</td>\n",
              "    </tr>\n",
              "    <tr>\n",
              "      <th>Shipped - Returning to Seller</th>\n",
              "      <td>145</td>\n",
              "    </tr>\n",
              "    <tr>\n",
              "      <th>Shipped - Out for Delivery</th>\n",
              "      <td>35</td>\n",
              "    </tr>\n",
              "    <tr>\n",
              "      <th>Shipped - Rejected by Buyer</th>\n",
              "      <td>11</td>\n",
              "    </tr>\n",
              "    <tr>\n",
              "      <th>Shipping</th>\n",
              "      <td>8</td>\n",
              "    </tr>\n",
              "    <tr>\n",
              "      <th>Shipped - Lost in Transit</th>\n",
              "      <td>5</td>\n",
              "    </tr>\n",
              "    <tr>\n",
              "      <th>Shipped - Damaged</th>\n",
              "      <td>1</td>\n",
              "    </tr>\n",
              "  </tbody>\n",
              "</table>\n",
              "</div><br><label><b>dtype:</b> int64</label>"
            ]
          },
          "metadata": {},
          "execution_count": 50
        }
      ],
      "source": [
        "# checking status for understanding return orders and cancellation orders\n",
        "\n",
        "df['Status'].value_counts()"
      ]
    },
    {
      "cell_type": "markdown",
      "source": [
        "**Return Section**"
      ],
      "metadata": {
        "id": "yxxkih-Qk5NX"
      }
    },
    {
      "cell_type": "code",
      "source": [
        "# return status\n",
        "return_statuses = [\n",
        "    'Cancelled',\n",
        "    'Shipped - Returned to Seller',\n",
        "    'Shipped - Returning to Seller',\n",
        "    'Shipped - Rejected by Buyer',\n",
        "    'Shipped - Damaged'\n",
        "]\n",
        "\n",
        "# dataframe for returns\n",
        "returns = df[df['Status'].isin(return_statuses)]"
      ],
      "metadata": {
        "id": "pufnMv1ETPKH"
      },
      "execution_count": null,
      "outputs": []
    },
    {
      "cell_type": "code",
      "source": [
        "# printing and visualizing return altogether\n",
        "\n",
        "# Calculate the number of returns per category\n",
        "returned_by_category = returns.groupby('Category')['Order ID'].count().reset_index(name='Returned Orders')\n",
        "\n",
        "# Calculate the total number of orders per category\n",
        "total_orders_by_category = df.groupby('Category')['Order ID'].count().reset_index(name='Total Orders')\n",
        "\n",
        "# Merge the return data with total orders to calculate the return rate\n",
        "category_analysis = pd.merge(total_orders_by_category, returned_by_category, on='Category', how='left')\n",
        "\n",
        "# Calculate the return rate (as a percentage)\n",
        "category_analysis['Return Rate'] = (category_analysis['Returned Orders'] / category_analysis['Total Orders']) * 100\n",
        "\n",
        "# Display the result for better understanding\n",
        "print(\"Return Rate Analysis:\")\n",
        "print(category_analysis)\n",
        "\n",
        "# Step 9: Visualize the return rates with a bar plot\n",
        "plt.figure(figsize=(10, 6))\n",
        "sns.barplot(x='Category', y='Return Rate', data=category_analysis, palette='crest',width = 0.5)\n",
        "plt.title('Return Rate by Product Category')\n",
        "plt.xlabel('Product Category')\n",
        "plt.ylabel('Return Rate (%)')\n",
        "plt.xticks(rotation=90)\n",
        "plt.tight_layout()\n",
        "plt.show()\n"
      ],
      "metadata": {
        "colab": {
          "base_uri": "https://localhost:8080/"
        },
        "id": "7lEneU9MgsUV",
        "outputId": "038974a6-2e4a-49ba-f6c4-5037000ad521"
      },
      "execution_count": null,
      "outputs": [
        {
          "output_type": "stream",
          "name": "stderr",
          "text": [
            "<ipython-input-52-1367749dbd6a>:4: FutureWarning: The default of observed=False is deprecated and will be changed to True in a future version of pandas. Pass observed=False to retain current behavior or observed=True to adopt the future default and silence this warning.\n",
            "  returned_by_category = returns.groupby('Category')['Order ID'].count().reset_index(name='Returned Orders')\n",
            "<ipython-input-52-1367749dbd6a>:7: FutureWarning: The default of observed=False is deprecated and will be changed to True in a future version of pandas. Pass observed=False to retain current behavior or observed=True to adopt the future default and silence this warning.\n",
            "  total_orders_by_category = df.groupby('Category')['Order ID'].count().reset_index(name='Total Orders')\n",
            "<ipython-input-52-1367749dbd6a>:21: FutureWarning: \n",
            "\n",
            "Passing `palette` without assigning `hue` is deprecated and will be removed in v0.14.0. Assign the `x` variable to `hue` and set `legend=False` for the same effect.\n",
            "\n",
            "  sns.barplot(x='Category', y='Return Rate', data=category_analysis, palette='crest',width = 0.5)\n"
          ]
        },
        {
          "output_type": "stream",
          "name": "stdout",
          "text": [
            "Return Rate Analysis:\n",
            "        Category  Total Orders  Returned Orders  Return Rate\n",
            "0         Blouse           926              128    13.822894\n",
            "1         Bottom           440               66    15.000000\n",
            "2        Dupatta             3                0     0.000000\n",
            "3   Ethnic Dress          1158              162    13.989637\n",
            "4          Saree           164               22    13.414634\n",
            "5            Set         50260             8179    16.273378\n",
            "6            Top         10619             1410    13.278086\n",
            "7  Western Dress         15494             2469    15.935201\n",
            "8          kurta         49846             8002    16.053445\n"
          ]
        },
        {
          "output_type": "display_data",
          "data": {
            "text/plain": [
              "<Figure size 1000x600 with 1 Axes>"
            ],
            "image/png": "[encoded data removed]"
          },
          "metadata": {}
        }
      ]
    },
    {
      "cell_type": "code",
      "source": [
        "# printing and visualizing return altogether (top 10 return products)\n",
        "\n",
        "# total quantity of returns per product\n",
        "returned_by_product = returns.groupby('SKU')['Qty'].sum().reset_index(name='Returned Quantity')\n",
        "\n",
        "# Calculate the total number of orders per category\n",
        "total_orders_by_products = df.groupby('SKU')['Order ID'].count().reset_index(name='Total Orders')\n",
        "\n",
        "# Merge the return data with total orders to calculate the returned quantities\n",
        "product_analysis = pd.merge(total_orders_by_products, returned_by_product, on='SKU', how='left')\n",
        "\n",
        "\n",
        "# Sort products by highest returned quantity and select top 10\n",
        "top_10_returned_products = product_analysis.sort_values(by='Returned Quantity', ascending=False).head(10)\n",
        "\n",
        "# Display the top 10 products with the highest returned quantity\n",
        "print(\"Top 10 Products with Highest Returned Quantity:\")\n",
        "print(top_10_returned_products[['SKU', 'Returned Quantity']])\n",
        "\n",
        "# Visualization\n",
        "plt.figure(figsize=(10, 6))\n",
        "sns.barplot(x='SKU', y='Returned Quantity', data=top_10_returned_products, palette='crest',width = 0.5)\n",
        "plt.title('Top 10 Products with Highest Returned Quantity')\n",
        "plt.xlabel('Product SKU')\n",
        "plt.ylabel('Returned Quantity')\n",
        "plt.xticks(rotation=90)\n",
        "plt.tight_layout()\n",
        "plt.show()\n"
      ],
      "metadata": {
        "colab": {
          "base_uri": "https://localhost:8080/"
        },
        "id": "xYerOZpNkiYM",
        "outputId": "381cce9b-78a8-4ff4-ef09-71cc45abbd39"
      },
      "execution_count": null,
      "outputs": [
        {
          "output_type": "stream",
          "name": "stdout",
          "text": [
            "Top 10 Products with Highest Returned Quantity:\n",
            "                  SKU  Returned Quantity\n",
            "4548     JNE3797-KR-L               39.0\n",
            "4550     JNE3797-KR-S               37.0\n",
            "1346      J0230-SKD-M               36.0\n",
            "2746     JNE3405-KR-L               35.0\n",
            "6304   SET268-KR-NP-S               32.0\n",
            "6305  SET268-KR-NP-XL               29.0\n",
            "4552    JNE3797-KR-XS               27.0\n",
            "2900   JNE3440-KR-N-M               27.0\n",
            "2488     JNE3291-KR-L               27.0\n",
            "6614   SET324-KR-NP-M               26.0\n"
          ]
        },
        {
          "output_type": "stream",
          "name": "stderr",
          "text": [
            "<ipython-input-53-44ceda0f54a4>:22: FutureWarning: \n",
            "\n",
            "Passing `palette` without assigning `hue` is deprecated and will be removed in v0.14.0. Assign the `x` variable to `hue` and set `legend=False` for the same effect.\n",
            "\n",
            "  sns.barplot(x='SKU', y='Returned Quantity', data=top_10_returned_products, palette='crest',width = 0.5)\n"
          ]
        },
        {
          "output_type": "display_data",
          "data": {
            "text/plain": [
              "<Figure size 1000x600 with 1 Axes>"
            ],
            "image/png": "[encoded data removed]"
          },
          "metadata": {}
        }
      ]
    },
    {
      "cell_type": "markdown",
      "source": [
        "**Cancellation Section**"
      ],
      "metadata": {
        "id": "VsZrMQ8OkyRB"
      }
    },
    {
      "cell_type": "code",
      "source": [
        "# cancellations df is already defined earlier so using that\n",
        "\n",
        "# Calculate the number of cancellations per category\n",
        "cancelled_by_category = cancellations.groupby('Category')['Order ID'].count().reset_index(name='Cancelled Orders')\n",
        "\n",
        "# Calculate the total number of orders per category\n",
        "total_orders_by_category = df.groupby('Category')['Order ID'].count().reset_index(name='Total Orders')\n",
        "\n",
        "# Merge the cancellation data with total orders to calculate the cancellation rate\n",
        "category_analysis = pd.merge(total_orders_by_category, cancelled_by_category, on='Category', how='left')\n",
        "\n",
        "# Calculate the cancellation rate (as a percentage)\n",
        "category_analysis['Cancellation Rate'] = (category_analysis['Cancelled Orders'] / category_analysis['Total Orders']) * 100\n",
        "\n",
        "# Display the result for better understanding\n",
        "print(\"Cancellation Rate Analysis:\")\n",
        "print(category_analysis)\n",
        "\n",
        "# Visualize the cancellation rates with a bar plot\n",
        "plt.figure(figsize=(10, 6))\n",
        "sns.barplot(x='Category', y='Cancellation Rate', data=category_analysis, palette='coolwarm',width = 0.5)\n",
        "plt.title('Cancellation Rate by Product Category')\n",
        "plt.xlabel('Product Category')\n",
        "plt.ylabel('Cancellation Rate (%)')\n",
        "plt.xticks(rotation=90)\n",
        "plt.tight_layout()\n",
        "plt.show()\n"
      ],
      "metadata": {
        "colab": {
          "base_uri": "https://localhost:8080/"
        },
        "id": "wuux9UbAgUHb",
        "outputId": "984b68ec-f379-4768-b623-f3c68dec0ccf"
      },
      "execution_count": null,
      "outputs": [
        {
          "output_type": "stream",
          "name": "stderr",
          "text": [
            "<ipython-input-54-23959d03b829>:4: FutureWarning: The default of observed=False is deprecated and will be changed to True in a future version of pandas. Pass observed=False to retain current behavior or observed=True to adopt the future default and silence this warning.\n",
            "  cancelled_by_category = cancellations.groupby('Category')['Order ID'].count().reset_index(name='Cancelled Orders')\n",
            "<ipython-input-54-23959d03b829>:7: FutureWarning: The default of observed=False is deprecated and will be changed to True in a future version of pandas. Pass observed=False to retain current behavior or observed=True to adopt the future default and silence this warning.\n",
            "  total_orders_by_category = df.groupby('Category')['Order ID'].count().reset_index(name='Total Orders')\n",
            "<ipython-input-54-23959d03b829>:21: FutureWarning: \n",
            "\n",
            "Passing `palette` without assigning `hue` is deprecated and will be removed in v0.14.0. Assign the `x` variable to `hue` and set `legend=False` for the same effect.\n",
            "\n",
            "  sns.barplot(x='Category', y='Cancellation Rate', data=category_analysis, palette='coolwarm',width = 0.5)\n"
          ]
        },
        {
          "output_type": "stream",
          "name": "stdout",
          "text": [
            "Cancellation Rate Analysis:\n",
            "        Category  Total Orders  Cancelled Orders  Cancellation Rate\n",
            "0         Blouse           926               128          13.822894\n",
            "1         Bottom           440                66          15.000000\n",
            "2        Dupatta             3                 0           0.000000\n",
            "3   Ethnic Dress          1158               162          13.989637\n",
            "4          Saree           164                22          13.414634\n",
            "5            Set         50260              8179          16.273378\n",
            "6            Top         10619              1410          13.278086\n",
            "7  Western Dress         15494              2468          15.928747\n",
            "8          kurta         49846              8002          16.053445\n"
          ]
        },
        {
          "output_type": "display_data",
          "data": {
            "text/plain": [
              "<Figure size 1000x600 with 1 Axes>"
            ],
            "image/png": "[encoded data removed]"
          },
          "metadata": {}
        }
      ]
    },
    {
      "cell_type": "code",
      "source": [
        "# product wise cancellation calculation\n",
        "\n",
        "# Calculate the total quantity of cancellations per product\n",
        "cancelled_by_product = cancellations.groupby('SKU')['Qty'].sum().reset_index(name='Cancelled Quantity')\n",
        "\n",
        "# Calculate the total quantity of orders per product (for comparison)\n",
        "total_orders_by_product = df.groupby('SKU')['Qty'].sum().reset_index(name='Total Quantity')\n",
        "\n",
        "# Merge the cancellation data with total orders to calculate the cancelled quantities\n",
        "product_analysis = pd.merge(total_orders_by_product, cancelled_by_product, on='SKU', how='left')\n",
        "\n",
        "# Sort products by highest cancelled quantity and select top 10\n",
        "top_10_cancelled_products = product_analysis.sort_values(by='Cancelled Quantity', ascending=False).head(10)\n",
        "\n",
        "# Display the top 10 products with the highest cancelled quantity\n",
        "print(\"Top 10 Products with Highest Cancelled Quantity:\")\n",
        "print(top_10_cancelled_products)\n",
        "\n",
        "# Visualization\n",
        "plt.figure(figsize=(10, 6))\n",
        "sns.barplot(x='SKU', y='Cancelled Quantity', data=top_10_cancelled_products, palette='coolwarm',width=0.5)\n",
        "plt.title('Top 10 Products with Highest Cancelled Quantity')\n",
        "plt.xlabel('Product SKU')\n",
        "plt.ylabel('Cancelled Quantity')\n",
        "plt.xticks(rotation=90)\n",
        "plt.tight_layout()\n",
        "plt.show()\n"
      ],
      "metadata": {
        "colab": {
          "base_uri": "https://localhost:8080/"
        },
        "id": "dRsb9G3OkO2Q",
        "outputId": "da0ba2a4-9aa8-42c1-d068-9d119e262e31"
      },
      "execution_count": null,
      "outputs": [
        {
          "output_type": "stream",
          "name": "stdout",
          "text": [
            "Top 10 Products with Highest Cancelled Quantity:\n",
            "                  SKU  Total Quantity  Cancelled Quantity\n",
            "4548     JNE3797-KR-L             661                39.0\n",
            "4550     JNE3797-KR-S             503                37.0\n",
            "1346      J0230-SKD-M             468                36.0\n",
            "2746     JNE3405-KR-L             485                35.0\n",
            "6304   SET268-KR-NP-S             351                32.0\n",
            "6305  SET268-KR-NP-XL             373                29.0\n",
            "2900   JNE3440-KR-N-M             185                27.0\n",
            "4552    JNE3797-KR-XS             386                27.0\n",
            "2488     JNE3291-KR-L             179                27.0\n",
            "6614   SET324-KR-NP-M             269                26.0\n"
          ]
        },
        {
          "output_type": "stream",
          "name": "stderr",
          "text": [
            "<ipython-input-55-c292cab01a0e>:21: FutureWarning: \n",
            "\n",
            "Passing `palette` without assigning `hue` is deprecated and will be removed in v0.14.0. Assign the `x` variable to `hue` and set `legend=False` for the same effect.\n",
            "\n",
            "  sns.barplot(x='SKU', y='Cancelled Quantity', data=top_10_cancelled_products, palette='coolwarm',width=0.5)\n"
          ]
        },
        {
          "output_type": "display_data",
          "data": {
            "text/plain": [
              "<Figure size 1000x600 with 1 Axes>"
            ],
            "image/png": "[encoded data removed]"
          },
          "metadata": {}
        }
      ]
    },
    {
      "cell_type": "markdown",
      "source": [
        "# Additional EDA"
      ],
      "metadata": {
        "id": "dLlsivH_mN72"
      }
    },
    {
      "cell_type": "code",
      "source": [
        "df['Status'].value_counts()"
      ],
      "metadata": {
        "colab": {
          "base_uri": "https://localhost:8080/",
          "height": 523
        },
        "id": "8eI28wHHWDQO",
        "outputId": "6b606347-3bc4-4198-fd85-6ba2fd571807"
      },
      "execution_count": null,
      "outputs": [
        {
          "output_type": "execute_result",
          "data": {
            "text/plain": [
              "Status\n",
              "Shipped                          77748\n",
              "Shipped - Delivered to Buyer     28764\n",
              "Cancelled                        18331\n",
              "Shipped - Returned to Seller      1950\n",
              "Shipped - Picked Up                973\n",
              "Pending                            658\n",
              "Pending - Waiting for Pick Up      281\n",
              "Shipped - Returning to Seller      145\n",
              "Shipped - Out for Delivery          35\n",
              "Shipped - Rejected by Buyer         11\n",
              "Shipping                             8\n",
              "Shipped - Lost in Transit            5\n",
              "Shipped - Damaged                    1\n",
              "Name: count, dtype: int64"
            ],
            "text/html": [
              "<div>\n",
              "<style scoped>\n",
              "    .dataframe tbody tr th:only-of-type {\n",
              "        vertical-align: middle;\n",
              "    }\n",
              "\n",
              "    .dataframe tbody tr th {\n",
              "        vertical-align: top;\n",
              "    }\n",
              "\n",
              "    .dataframe thead th {\n",
              "        text-align: right;\n",
              "    }\n",
              "</style>\n",
              "<table border=\"1\" class=\"dataframe\">\n",
              "  <thead>\n",
              "    <tr style=\"text-align: right;\">\n",
              "      <th></th>\n",
              "      <th>count</th>\n",
              "    </tr>\n",
              "    <tr>\n",
              "      <th>Status</th>\n",
              "      <th></th>\n",
              "    </tr>\n",
              "  </thead>\n",
              "  <tbody>\n",
              "    <tr>\n",
              "      <th>Shipped</th>\n",
              "      <td>77748</td>\n",
              "    </tr>\n",
              "    <tr>\n",
              "      <th>Shipped - Delivered to Buyer</th>\n",
              "      <td>28764</td>\n",
              "    </tr>\n",
              "    <tr>\n",
              "      <th>Cancelled</th>\n",
              "      <td>18331</td>\n",
              "    </tr>\n",
              "    <tr>\n",
              "      <th>Shipped - Returned to Seller</th>\n",
              "      <td>1950</td>\n",
              "    </tr>\n",
              "    <tr>\n",
              "      <th>Shipped - Picked Up</th>\n",
              "      <td>973</td>\n",
              "    </tr>\n",
              "    <tr>\n",
              "      <th>Pending</th>\n",
              "      <td>658</td>\n",
              "    </tr>\n",
              "    <tr>\n",
              "      <th>Pending - Waiting for Pick Up</th>\n",
              "      <td>281</td>\n",
              "    </tr>\n",
              "    <tr>\n",
              "      <th>Shipped - Returning to Seller</th>\n",
              "      <td>145</td>\n",
              "    </tr>\n",
              "    <tr>\n",
              "      <th>Shipped - Out for Delivery</th>\n",
              "      <td>35</td>\n",
              "    </tr>\n",
              "    <tr>\n",
              "      <th>Shipped - Rejected by Buyer</th>\n",
              "      <td>11</td>\n",
              "    </tr>\n",
              "    <tr>\n",
              "      <th>Shipping</th>\n",
              "      <td>8</td>\n",
              "    </tr>\n",
              "    <tr>\n",
              "      <th>Shipped - Lost in Transit</th>\n",
              "      <td>5</td>\n",
              "    </tr>\n",
              "    <tr>\n",
              "      <th>Shipped - Damaged</th>\n",
              "      <td>1</td>\n",
              "    </tr>\n",
              "  </tbody>\n",
              "</table>\n",
              "</div><br><label><b>dtype:</b> int64</label>"
            ]
          },
          "metadata": {},
          "execution_count": 56
        }
      ]
    },
    {
      "cell_type": "code",
      "source": [
        "# Step 1: Convert the 'Date' column to datetime format if it's not already\n",
        "df['Date'] = pd.to_datetime(df['Date'])\n",
        "\n",
        "# Step 2: Extract Month and Year from the 'Date' column\n",
        "df['Year_Month'] = df['Date'].dt.to_period('M')  # Creates a period object like '2024-01', '2024-02', etc.\n",
        "\n",
        "# Step 3: Define return statuses\n",
        "return_statuses = [\n",
        "    'Cancelled',\n",
        "    'Shipped - Returned to Seller',\n",
        "    'Shipped - Returning to Seller',\n",
        "    'Shipped - Rejected by Buyer',\n",
        "    'Shipped - Damaged'\n",
        "]\n",
        "\n",
        "# Step 4: Filter the data for returns\n",
        "returns = df[df['Status'].isin(return_statuses)]\n",
        "\n",
        "# Step 5: Calculate the total quantity of returns per month\n",
        "returns_monthly = returns.groupby('Year_Month')['Qty'].sum().reset_index(name='Returned Quantity')\n",
        "\n",
        "# Step 6: Calculate the total quantity of orders per month\n",
        "total_orders_monthly = df.groupby('Year_Month')['Qty'].sum().reset_index(name='Total Quantity')\n",
        "\n",
        "# Step 7: Merge the data to calculate the return rate per month\n",
        "monthly_analysis = pd.merge(total_orders_monthly, returns_monthly, on='Year_Month', how='left')\n",
        "\n",
        "# Step 8: Calculate the return rate for each month\n",
        "monthly_analysis['Return Rate (%)'] = (monthly_analysis['Returned Quantity'] / monthly_analysis['Total Quantity']) * 100\n",
        "\n",
        "# Step 9: Fill NaN values with 0 (in case there were no returns in a month)\n",
        "monthly_analysis.fillna(0, inplace=True)\n",
        "\n",
        "# Display the monthly return rate\n",
        "print(monthly_analysis[['Year_Month', 'Return Rate (%)']])\n",
        "\n",
        "# Visualization: Monthly Return Rate (Bar Chart)\n",
        "plt.figure(figsize=(10, 6))\n",
        "sns.barplot(x='Year_Month', y='Return Rate (%)', data=monthly_analysis, palette='Blues_d',width = 0.5)\n",
        "plt.title('Monthly Return Rate (%)')\n",
        "plt.xlabel('Month-Year')\n",
        "plt.ylabel('Return Rate (%)')\n",
        "plt.xticks(rotation=45)\n",
        "plt.tight_layout()\n",
        "plt.show()\n"
      ],
      "metadata": {
        "colab": {
          "base_uri": "https://localhost:8080/",
          "height": 801
        },
        "id": "kscM-Lt-mRni",
        "outputId": "4d2d46c5-5e21-4884-c1c1-f7d4d4cfb30e"
      },
      "execution_count": null,
      "outputs": [
        {
          "output_type": "stream",
          "name": "stdout",
          "text": [
            "  Year_Month  Return Rate (%)\n",
            "0    2022-03         3.205128\n",
            "1    2022-04         6.846154\n",
            "2    2022-05         6.523169\n",
            "3    2022-06         6.698579\n"
          ]
        },
        {
          "output_type": "stream",
          "name": "stderr",
          "text": [
            "<ipython-input-57-bab6e0bc806e>:39: FutureWarning: \n",
            "\n",
            "Passing `palette` without assigning `hue` is deprecated and will be removed in v0.14.0. Assign the `x` variable to `hue` and set `legend=False` for the same effect.\n",
            "\n",
            "  sns.barplot(x='Year_Month', y='Return Rate (%)', data=monthly_analysis, palette='Blues_d',width = 0.5)\n"
          ]
        },
        {
          "output_type": "display_data",
          "data": {
            "text/plain": [
              "<Figure size 1000x600 with 1 Axes>"
            ],
            "image/png": "[encoded data removed]"
          },
          "metadata": {}
        }
      ]
    },
    {
      "cell_type": "code",
      "source": [
        "# Step 1: Convert the 'Date' column to datetime format if not already\n",
        "df['Date'] = pd.to_datetime(df['Date'])\n",
        "\n",
        "# Step 2: Extract Month and Year from the 'Date' column\n",
        "df['Year_Month'] = df['Date'].dt.to_period('M')  # Creates a period object like '2024-01', '2024-02', etc.\n",
        "\n",
        "# Step 3: Calculate the total revenue per month\n",
        "monthly_revenue = df.groupby('Year_Month')['Amount'].sum().reset_index(name='Total Revenue')\n",
        "\n",
        "# Display the monthly revenue data\n",
        "print(monthly_revenue)\n",
        "\n",
        "# Visualization: Monthly Revenue (Bar Chart)\n",
        "plt.figure(figsize=(10, 6))\n",
        "sns.barplot(x='Year_Month', y='Total Revenue', data=monthly_revenue, palette='viridis',width=0.5)\n",
        "plt.title('Monthly Revenue')\n",
        "plt.xlabel('Month-Year')\n",
        "plt.ylabel('Total Revenue')\n",
        "plt.xticks(rotation=45)\n",
        "plt.tight_layout()\n",
        "plt.show()\n"
      ],
      "metadata": {
        "colab": {
          "base_uri": "https://localhost:8080/",
          "height": 801
        },
        "id": "_-tSPxKinSxU",
        "outputId": "7e89693d-2c37-4248-efa6-237d9335548c"
      },
      "execution_count": null,
      "outputs": [
        {
          "output_type": "stream",
          "name": "stdout",
          "text": [
            "  Year_Month  Total Revenue\n",
            "0    2022-03       95355.00\n",
            "1    2022-04    26272649.62\n",
            "2    2022-05    23975445.00\n",
            "3    2022-06    21412223.00\n"
          ]
        },
        {
          "output_type": "stream",
          "name": "stderr",
          "text": [
            "<ipython-input-58-e32e2d2dae4b>:15: FutureWarning: \n",
            "\n",
            "Passing `palette` without assigning `hue` is deprecated and will be removed in v0.14.0. Assign the `x` variable to `hue` and set `legend=False` for the same effect.\n",
            "\n",
            "  sns.barplot(x='Year_Month', y='Total Revenue', data=monthly_revenue, palette='viridis',width=0.5)\n"
          ]
        },
        {
          "output_type": "display_data",
          "data": {
            "text/plain": [
              "<Figure size 1000x600 with 1 Axes>"
            ],
            "image/png": "[encoded data removed]"
          },
          "metadata": {}
        }
      ]
    },
    {
      "cell_type": "code",
      "source": [
        "filtered_sales = df[(df['Size'] == 'M') & (df['Category'] == 'Set')]\n",
        "\n",
        "# Calculate the total quantity sold for 'M' size in 'Set' category\n",
        "total_quantity_sold = filtered_sales['Qty'].sum()\n",
        "\n",
        "# Print the result\n",
        "print(f\"Total quantity sold from 'M' size in 'Set' category: {total_quantity_sold}\")"
      ],
      "metadata": {
        "colab": {
          "base_uri": "https://localhost:8080/"
        },
        "id": "9_l_acb8YjU5",
        "outputId": "51e6a5e2-e86a-44c1-f75d-354d630e6dae"
      },
      "execution_count": null,
      "outputs": [
        {
          "output_type": "stream",
          "name": "stdout",
          "text": [
            "Total quantity sold from 'M' size in 'Set' category: 8355\n"
          ]
        }
      ]
    },
    {
      "cell_type": "code",
      "source": [
        "df.groupby('ship-city')['Amount'].sum().sort_values(ascending=False)"
      ],
      "metadata": {
        "colab": {
          "base_uri": "https://localhost:8080/",
          "height": 490
        },
        "id": "DXEcDGJ4aczq",
        "outputId": "3413737a-6c8a-483e-bddc-a1833cf2e010"
      },
      "execution_count": null,
      "outputs": [
        {
          "output_type": "execute_result",
          "data": {
            "text/plain": [
              "ship-city\n",
              "BENGALURU                               6349713.00\n",
              "HYDERABAD                               4499883.57\n",
              "MUMBAI                                  3400494.00\n",
              "NEW DELHI                               3331168.48\n",
              "CHENNAI                                 2823610.00\n",
              "                                           ...    \n",
              "BIJAINAGAR AJMER DISTRICT                     0.00\n",
              "Rahatani                                      0.00\n",
              "BIHKA                                         0.00\n",
              "Vazhakulam                                    0.00\n",
              "GOSAINGANJ FAIZABAD DISTRICT ayodhya          0.00\n",
              "Name: Amount, Length: 8955, dtype: float64"
            ],
            "text/html": [
              "<div>\n",
              "<style scoped>\n",
              "    .dataframe tbody tr th:only-of-type {\n",
              "        vertical-align: middle;\n",
              "    }\n",
              "\n",
              "    .dataframe tbody tr th {\n",
              "        vertical-align: top;\n",
              "    }\n",
              "\n",
              "    .dataframe thead th {\n",
              "        text-align: right;\n",
              "    }\n",
              "</style>\n",
              "<table border=\"1\" class=\"dataframe\">\n",
              "  <thead>\n",
              "    <tr style=\"text-align: right;\">\n",
              "      <th></th>\n",
              "      <th>Amount</th>\n",
              "    </tr>\n",
              "    <tr>\n",
              "      <th>ship-city</th>\n",
              "      <th></th>\n",
              "    </tr>\n",
              "  </thead>\n",
              "  <tbody>\n",
              "    <tr>\n",
              "      <th>BENGALURU</th>\n",
              "      <td>6349713.00</td>\n",
              "    </tr>\n",
              "    <tr>\n",
              "      <th>HYDERABAD</th>\n",
              "      <td>4499883.57</td>\n",
              "    </tr>\n",
              "    <tr>\n",
              "      <th>MUMBAI</th>\n",
              "      <td>3400494.00</td>\n",
              "    </tr>\n",
              "    <tr>\n",
              "      <th>NEW DELHI</th>\n",
              "      <td>3331168.48</td>\n",
              "    </tr>\n",
              "    <tr>\n",
              "      <th>CHENNAI</th>\n",
              "      <td>2823610.00</td>\n",
              "    </tr>\n",
              "    <tr>\n",
              "      <th>...</th>\n",
              "      <td>...</td>\n",
              "    </tr>\n",
              "    <tr>\n",
              "      <th>BIJAINAGAR AJMER DISTRICT</th>\n",
              "      <td>0.00</td>\n",
              "    </tr>\n",
              "    <tr>\n",
              "      <th>Rahatani</th>\n",
              "      <td>0.00</td>\n",
              "    </tr>\n",
              "    <tr>\n",
              "      <th>BIHKA</th>\n",
              "      <td>0.00</td>\n",
              "    </tr>\n",
              "    <tr>\n",
              "      <th>Vazhakulam</th>\n",
              "      <td>0.00</td>\n",
              "    </tr>\n",
              "    <tr>\n",
              "      <th>GOSAINGANJ FAIZABAD DISTRICT ayodhya</th>\n",
              "      <td>0.00</td>\n",
              "    </tr>\n",
              "  </tbody>\n",
              "</table>\n",
              "<p>8955 rows × 1 columns</p>\n",
              "</div><br><label><b>dtype:</b> float64</label>"
            ]
          },
          "metadata": {},
          "execution_count": 60
        }
      ]
    },
    {
      "cell_type": "code",
      "source": [
        "import pandas as pd\n",
        "import seaborn as sns\n",
        "import matplotlib.pyplot as plt\n",
        "\n",
        "# Assuming df is your DataFrame\n",
        "\n",
        "# Step 1: Convert the 'Date' column to datetime format if it's not already\n",
        "df['Date'] = pd.to_datetime(df['Date'])\n",
        "\n",
        "# Step 2: Extract Month and Year from the 'Date' column\n",
        "df['Year_Month'] = df['Date'].dt.to_period('M')  # Creates a period object like '2024-01', '2024-02', etc.\n",
        "\n",
        "# Step 3: Define cancellation statuses\n",
        "cancellation_statuses = [\n",
        "    'Cancelled',\n",
        "    'Shipped - Returned to Seller',\n",
        "    'Shipped - Returning to Seller',\n",
        "    'Shipped - Rejected by Buyer'\n",
        "]\n",
        "\n",
        "# Step 4: Filter the data for cancellations\n",
        "cancellations = df[df['Status'].isin(cancellation_statuses)]\n",
        "\n",
        "# Step 5: Calculate the total quantity of cancellations per month\n",
        "cancellations_monthly = cancellations.groupby('Year_Month')['Qty'].sum().reset_index(name='Cancelled Quantity')\n",
        "\n",
        "# Step 6: Calculate the total quantity of orders per month\n",
        "total_orders_monthly = df.groupby('Year_Month')['Qty'].sum().reset_index(name='Total Quantity')\n",
        "\n",
        "# Step 7: Merge the data to calculate the cancellation rate per month\n",
        "monthly_analysis = pd.merge(total_orders_monthly, cancellations_monthly, on='Year_Month', how='left')\n",
        "\n",
        "# Step 8: Calculate the cancellation rate for each month\n",
        "monthly_analysis['Cancellation Rate (%)'] = (monthly_analysis['Cancelled Quantity'] / monthly_analysis['Total Quantity']) * 100\n",
        "\n",
        "# Step 9: Fill NaN values with 0 (in case there were no cancellations in a month)\n",
        "monthly_analysis.fillna(0, inplace=True)\n",
        "\n",
        "# Display the monthly cancellation rate\n",
        "print(monthly_analysis[['Year_Month', 'Cancellation Rate (%)']])\n",
        "\n",
        "# Visualization: Monthly Cancellation Rate (Bar Chart)\n",
        "plt.figure(figsize=(10, 6))\n",
        "sns.barplot(x='Year_Month', y='Cancellation Rate (%)', data=monthly_analysis, palette='Reds_d', width=0.5)\n",
        "plt.title('Monthly Cancellation Rate (%)')\n",
        "plt.xlabel('Month-Year')\n",
        "plt.ylabel('Cancellation Rate (%)')\n",
        "plt.xticks(rotation=45)\n",
        "plt.tight_layout()\n",
        "plt.show()\n"
      ],
      "metadata": {
        "colab": {
          "base_uri": "https://localhost:8080/",
          "height": 801
        },
        "id": "eQXzY0XQo4Ni",
        "outputId": "2e340a4f-c8f0-481f-9087-9eb2f323466c"
      },
      "execution_count": null,
      "outputs": [
        {
          "output_type": "stream",
          "name": "stdout",
          "text": [
            "  Year_Month  Cancellation Rate (%)\n",
            "0    2022-03               3.205128\n",
            "1    2022-04               6.846154\n",
            "2    2022-05               6.523169\n",
            "3    2022-06               6.695660\n"
          ]
        },
        {
          "output_type": "stream",
          "name": "stderr",
          "text": [
            "<ipython-input-61-826bf9f0f7c6>:44: FutureWarning: \n",
            "\n",
            "Passing `palette` without assigning `hue` is deprecated and will be removed in v0.14.0. Assign the `x` variable to `hue` and set `legend=False` for the same effect.\n",
            "\n",
            "  sns.barplot(x='Year_Month', y='Cancellation Rate (%)', data=monthly_analysis, palette='Reds_d', width=0.5)\n"
          ]
        },
        {
          "output_type": "display_data",
          "data": {
            "text/plain": [
              "<Figure size 1000x600 with 1 Axes>"
            ],
            "image/png": "[encoded data removed]"
          },
          "metadata": {}
        }
      ]
    },
    {
      "cell_type": "markdown",
      "source": [
        "# Conclusion of Analysis"
      ],
      "metadata": {
        "id": "UpMEpEgM8dkc"
      }
    },
    {
      "cell_type": "markdown",
      "source": [
        "**Financial Performance**\n",
        "\n",
        "- Revenue declining from past three months.\n",
        "- Sunday having the highest sales day contributing 15.34% of total sales\n",
        "- Top 10 selling products sharing 5% of total revenue\n",
        "\n",
        "**Customer Insights**\n",
        "\n",
        "- Banglore, Mumbai, Hyderabad are top 3 locations contributing 22% of total revenue\n",
        "- Cancellation rate is ranging between 11% - 19% every month\n",
        "- In comparision between B2B & B2C , B2C is the revenue generator\n",
        "\n",
        "**Logistics & Fulfillment**\n",
        "\n",
        "- Only 5-10% of total orders are getting delivered\n",
        "- 18-22% of the total orders are always in shipping mode which delaying in delivering the orders\n",
        "- Amazon is fulfilling 70% of the orders\n",
        "\n",
        "**Product Management**\n",
        "\n",
        "- 'Set' category is the highest revenue generator contributing 50% of total revenue\n",
        "- 'Dupatta' Category is having highest avg order quantity, that means it is the high demand category\n",
        "- 'BL017-63BLACK' is the popular product among all highest avg qty order at 8\n",
        "\n",
        "**Customer Satisfaction & Returns**\n",
        "\n",
        "- 'Set, Kurta & Western Dress are the top 3 category with return rate of around 1600%\n",
        "- there are some ordes having return rate of 10000% and products with high return rate are so much."
      ],
      "metadata": {
        "id": "-xbSR2ww80o7"
      }
    },
    {
      "cell_type": "markdown",
      "source": [
        "# Recommendations"
      ],
      "metadata": {
        "id": "ZPKZOeV1_PPn"
      }
    },
    {
      "cell_type": "markdown",
      "source": [
        "- Inventory Optimization -- stock more of popular products cateogries based on data.\n",
        "- Targeted marketing -- Develop separate strategies for B2B and B2C segments based on purchasing behaviour.\n",
        "- Logistics Improvement -- Focus on optimizing fulfillment methods and reducing shipping times for better efficiency.\n",
        "- Customer Experience Enhancement -- Address quality issues with high-return products to improve satisfaction."
      ],
      "metadata": {
        "id": "AAwppY9A_SPk"
      }
    },
    {
      "cell_type": "markdown",
      "source": [
        "# Export"
      ],
      "metadata": {
        "id": "rHBrQh8TlOTL"
      }
    },
    {
      "cell_type": "code",
      "source": [
        "# downloading cleaned file\n",
        "\n",
        "from google.colab import files\n",
        "files.download('cleaned_data.csv')"
      ],
      "metadata": {
        "colab": {
          "base_uri": "https://localhost:8080/",
          "height": 17
        },
        "id": "PamgbVVdmk8t",
        "outputId": "f1aab169-4c69-49aa-dadf-4b5360c74c70"
      },
      "execution_count": null,
      "outputs": [
        {
          "output_type": "display_data",
          "data": {
            "text/plain": [
              "<IPython.core.display.Javascript object>"
            ],
            "application/javascript": [
              "\n",
              "    async function download(id, filename, size) {\n",
              "      if (!google.colab.kernel.accessAllowed) {\n",
              "        return;\n",
              "      }\n",
              "      const div = document.createElement('div');\n",
              "      const label = document.createElement('label');\n",
              "      label.textContent = `Downloading \"${filename}\": `;\n",
              "      div.appendChild(label);\n",
              "      const progress = document.createElement('progress');\n",
              "      progress.max = size;\n",
              "      div.appendChild(progress);\n",
              "      document.body.appendChild(div);\n",
              "\n",
              "      const buffers = [];\n",
              "      let downloaded = 0;\n",
              "\n",
              "      const channel = await google.colab.kernel.comms.open(id);\n",
              "      // Send a message to notify the kernel that we're ready.\n",
              "      channel.send({})\n",
              "\n",
              "      for await (const message of channel.messages) {\n",
              "        // Send a message to notify the kernel that we're ready.\n",
              "        channel.send({})\n",
              "        if (message.buffers) {\n",
              "          for (const buffer of message.buffers) {\n",
              "            buffers.push(buffer);\n",
              "            downloaded += buffer.byteLength;\n",
              "            progress.value = downloaded;\n",
              "          }\n",
              "        }\n",
              "      }\n",
              "      const blob = new Blob(buffers, {type: 'application/binary'});\n",
              "      const a = document.createElement('a');\n",
              "      a.href = window.URL.createObjectURL(blob);\n",
              "      a.download = filename;\n",
              "      div.appendChild(a);\n",
              "      a.click();\n",
              "      div.remove();\n",
              "    }\n",
              "  "
            ]
          },
          "metadata": {}
        },
        {
          "output_type": "display_data",
          "data": {
            "text/plain": [
              "<IPython.core.display.Javascript object>"
            ],
            "application/javascript": [
              "download(\"download_fbead249-8fb0-496f-b2ca-10a8716ab86c\", \"cleaned_data.csv\", 71175602)"
            ]
          },
          "metadata": {}
        }
      ]
    }
  ],
  "metadata": {
    "colab": {
      "collapsed_sections": [
        "G9A-2pMkro0x",
        "Z6j7Wuf1s6vx",
        "y6H1Goz2ux_F",
        "n653c0svxvxc",
        "i-jLy-7Ly3C7",
        "KFxQXluU1K1l",
        "dLlsivH_mN72",
        "UpMEpEgM8dkc",
        "ZPKZOeV1_PPn",
        "rHBrQh8TlOTL"
      ],
      "provenance": []
    },
    "kernelspec": {
      "display_name": "Python 3",
      "name": "python3"
    },
    "language_info": {
      "name": "python"
    }
  },
  "nbformat": 4,
  "nbformat_minor": 0
}